{
  "cells": [
    {
      "cell_type": "markdown",
      "metadata": {
        "id": "A37KMOQcufVg"
      },
      "source": [
        "The following additional libraries are needed to run this\n",
        "notebook. Note that running on Colab is experimental, please report a Github\n",
        "issue if you have any problem."
      ]
    },
    {
      "cell_type": "code",
      "execution_count": 2,
      "metadata": {
        "id": "fUvnHki1ufVo",
        "outputId": "c03470e1-eb47-447d-83d1-f27ce4a2e473",
        "colab": {
          "base_uri": "https://localhost:8080/"
        }
      },
      "outputs": [
        {
          "output_type": "stream",
          "name": "stdout",
          "text": [
            "Collecting git+https://github.com/d2l-ai/d2l-zh@release\n",
            "  Cloning https://github.com/d2l-ai/d2l-zh (to revision release) to /tmp/pip-req-build-ha_url6q\n",
            "  Running command git clone -q https://github.com/d2l-ai/d2l-zh /tmp/pip-req-build-ha_url6q\n",
            "  Running command git checkout -b release --track origin/release\n",
            "  Switched to a new branch 'release'\n",
            "  Branch 'release' set up to track remote branch 'release' from 'origin'.\n",
            "  Running command git submodule update --init --recursive -q\n",
            "Requirement already satisfied: jupyter in /usr/local/lib/python3.7/dist-packages (from d2l==2.0.0b0) (1.0.0)\n",
            "Requirement already satisfied: numpy in /usr/local/lib/python3.7/dist-packages (from d2l==2.0.0b0) (1.19.5)\n",
            "Requirement already satisfied: matplotlib in /usr/local/lib/python3.7/dist-packages (from d2l==2.0.0b0) (3.2.2)\n",
            "Requirement already satisfied: requests in /usr/local/lib/python3.7/dist-packages (from d2l==2.0.0b0) (2.23.0)\n",
            "Requirement already satisfied: pandas in /usr/local/lib/python3.7/dist-packages (from d2l==2.0.0b0) (1.1.5)\n",
            "Requirement already satisfied: ipywidgets in /usr/local/lib/python3.7/dist-packages (from jupyter->d2l==2.0.0b0) (7.6.5)\n",
            "Requirement already satisfied: jupyter-console in /usr/local/lib/python3.7/dist-packages (from jupyter->d2l==2.0.0b0) (5.2.0)\n",
            "Requirement already satisfied: nbconvert in /usr/local/lib/python3.7/dist-packages (from jupyter->d2l==2.0.0b0) (5.6.1)\n",
            "Requirement already satisfied: notebook in /usr/local/lib/python3.7/dist-packages (from jupyter->d2l==2.0.0b0) (5.3.1)\n",
            "Requirement already satisfied: ipykernel in /usr/local/lib/python3.7/dist-packages (from jupyter->d2l==2.0.0b0) (4.10.1)\n",
            "Requirement already satisfied: qtconsole in /usr/local/lib/python3.7/dist-packages (from jupyter->d2l==2.0.0b0) (5.2.2)\n",
            "Requirement already satisfied: tornado>=4.0 in /usr/local/lib/python3.7/dist-packages (from ipykernel->jupyter->d2l==2.0.0b0) (5.1.1)\n",
            "Requirement already satisfied: jupyter-client in /usr/local/lib/python3.7/dist-packages (from ipykernel->jupyter->d2l==2.0.0b0) (5.3.5)\n",
            "Requirement already satisfied: ipython>=4.0.0 in /usr/local/lib/python3.7/dist-packages (from ipykernel->jupyter->d2l==2.0.0b0) (5.5.0)\n",
            "Requirement already satisfied: traitlets>=4.1.0 in /usr/local/lib/python3.7/dist-packages (from ipykernel->jupyter->d2l==2.0.0b0) (5.1.1)\n",
            "Requirement already satisfied: setuptools>=18.5 in /usr/local/lib/python3.7/dist-packages (from ipython>=4.0.0->ipykernel->jupyter->d2l==2.0.0b0) (57.4.0)\n",
            "Requirement already satisfied: pygments in /usr/local/lib/python3.7/dist-packages (from ipython>=4.0.0->ipykernel->jupyter->d2l==2.0.0b0) (2.6.1)\n",
            "Requirement already satisfied: pickleshare in /usr/local/lib/python3.7/dist-packages (from ipython>=4.0.0->ipykernel->jupyter->d2l==2.0.0b0) (0.7.5)\n",
            "Requirement already satisfied: decorator in /usr/local/lib/python3.7/dist-packages (from ipython>=4.0.0->ipykernel->jupyter->d2l==2.0.0b0) (4.4.2)\n",
            "Requirement already satisfied: simplegeneric>0.8 in /usr/local/lib/python3.7/dist-packages (from ipython>=4.0.0->ipykernel->jupyter->d2l==2.0.0b0) (0.8.1)\n",
            "Requirement already satisfied: pexpect in /usr/local/lib/python3.7/dist-packages (from ipython>=4.0.0->ipykernel->jupyter->d2l==2.0.0b0) (4.8.0)\n",
            "Requirement already satisfied: prompt-toolkit<2.0.0,>=1.0.4 in /usr/local/lib/python3.7/dist-packages (from ipython>=4.0.0->ipykernel->jupyter->d2l==2.0.0b0) (1.0.18)\n",
            "Requirement already satisfied: wcwidth in /usr/local/lib/python3.7/dist-packages (from prompt-toolkit<2.0.0,>=1.0.4->ipython>=4.0.0->ipykernel->jupyter->d2l==2.0.0b0) (0.2.5)\n",
            "Requirement already satisfied: six>=1.9.0 in /usr/local/lib/python3.7/dist-packages (from prompt-toolkit<2.0.0,>=1.0.4->ipython>=4.0.0->ipykernel->jupyter->d2l==2.0.0b0) (1.15.0)\n",
            "Requirement already satisfied: widgetsnbextension~=3.5.0 in /usr/local/lib/python3.7/dist-packages (from ipywidgets->jupyter->d2l==2.0.0b0) (3.5.2)\n",
            "Requirement already satisfied: ipython-genutils~=0.2.0 in /usr/local/lib/python3.7/dist-packages (from ipywidgets->jupyter->d2l==2.0.0b0) (0.2.0)\n",
            "Requirement already satisfied: jupyterlab-widgets>=1.0.0 in /usr/local/lib/python3.7/dist-packages (from ipywidgets->jupyter->d2l==2.0.0b0) (1.0.2)\n",
            "Requirement already satisfied: nbformat>=4.2.0 in /usr/local/lib/python3.7/dist-packages (from ipywidgets->jupyter->d2l==2.0.0b0) (5.1.3)\n",
            "Requirement already satisfied: jsonschema!=2.5.0,>=2.4 in /usr/local/lib/python3.7/dist-packages (from nbformat>=4.2.0->ipywidgets->jupyter->d2l==2.0.0b0) (4.3.3)\n",
            "Requirement already satisfied: jupyter-core in /usr/local/lib/python3.7/dist-packages (from nbformat>=4.2.0->ipywidgets->jupyter->d2l==2.0.0b0) (4.9.1)\n",
            "Requirement already satisfied: pyrsistent!=0.17.0,!=0.17.1,!=0.17.2,>=0.14.0 in /usr/local/lib/python3.7/dist-packages (from jsonschema!=2.5.0,>=2.4->nbformat>=4.2.0->ipywidgets->jupyter->d2l==2.0.0b0) (0.18.0)\n",
            "Requirement already satisfied: importlib-metadata in /usr/local/lib/python3.7/dist-packages (from jsonschema!=2.5.0,>=2.4->nbformat>=4.2.0->ipywidgets->jupyter->d2l==2.0.0b0) (4.10.0)\n",
            "Requirement already satisfied: attrs>=17.4.0 in /usr/local/lib/python3.7/dist-packages (from jsonschema!=2.5.0,>=2.4->nbformat>=4.2.0->ipywidgets->jupyter->d2l==2.0.0b0) (21.4.0)\n",
            "Requirement already satisfied: importlib-resources>=1.4.0 in /usr/local/lib/python3.7/dist-packages (from jsonschema!=2.5.0,>=2.4->nbformat>=4.2.0->ipywidgets->jupyter->d2l==2.0.0b0) (5.4.0)\n",
            "Requirement already satisfied: typing-extensions in /usr/local/lib/python3.7/dist-packages (from jsonschema!=2.5.0,>=2.4->nbformat>=4.2.0->ipywidgets->jupyter->d2l==2.0.0b0) (3.10.0.2)\n",
            "Requirement already satisfied: zipp>=3.1.0 in /usr/local/lib/python3.7/dist-packages (from importlib-resources>=1.4.0->jsonschema!=2.5.0,>=2.4->nbformat>=4.2.0->ipywidgets->jupyter->d2l==2.0.0b0) (3.7.0)\n",
            "Requirement already satisfied: jinja2 in /usr/local/lib/python3.7/dist-packages (from notebook->jupyter->d2l==2.0.0b0) (2.11.3)\n",
            "Requirement already satisfied: terminado>=0.8.1 in /usr/local/lib/python3.7/dist-packages (from notebook->jupyter->d2l==2.0.0b0) (0.12.1)\n",
            "Requirement already satisfied: Send2Trash in /usr/local/lib/python3.7/dist-packages (from notebook->jupyter->d2l==2.0.0b0) (1.8.0)\n",
            "Requirement already satisfied: python-dateutil>=2.1 in /usr/local/lib/python3.7/dist-packages (from jupyter-client->ipykernel->jupyter->d2l==2.0.0b0) (2.8.2)\n",
            "Requirement already satisfied: pyzmq>=13 in /usr/local/lib/python3.7/dist-packages (from jupyter-client->ipykernel->jupyter->d2l==2.0.0b0) (22.3.0)\n",
            "Requirement already satisfied: ptyprocess in /usr/local/lib/python3.7/dist-packages (from terminado>=0.8.1->notebook->jupyter->d2l==2.0.0b0) (0.7.0)\n",
            "Requirement already satisfied: MarkupSafe>=0.23 in /usr/local/lib/python3.7/dist-packages (from jinja2->notebook->jupyter->d2l==2.0.0b0) (2.0.1)\n",
            "Requirement already satisfied: kiwisolver>=1.0.1 in /usr/local/lib/python3.7/dist-packages (from matplotlib->d2l==2.0.0b0) (1.3.2)\n",
            "Requirement already satisfied: cycler>=0.10 in /usr/local/lib/python3.7/dist-packages (from matplotlib->d2l==2.0.0b0) (0.11.0)\n",
            "Requirement already satisfied: pyparsing!=2.0.4,!=2.1.2,!=2.1.6,>=2.0.1 in /usr/local/lib/python3.7/dist-packages (from matplotlib->d2l==2.0.0b0) (3.0.6)\n",
            "Requirement already satisfied: testpath in /usr/local/lib/python3.7/dist-packages (from nbconvert->jupyter->d2l==2.0.0b0) (0.5.0)\n",
            "Requirement already satisfied: defusedxml in /usr/local/lib/python3.7/dist-packages (from nbconvert->jupyter->d2l==2.0.0b0) (0.7.1)\n",
            "Requirement already satisfied: pandocfilters>=1.4.1 in /usr/local/lib/python3.7/dist-packages (from nbconvert->jupyter->d2l==2.0.0b0) (1.5.0)\n",
            "Requirement already satisfied: bleach in /usr/local/lib/python3.7/dist-packages (from nbconvert->jupyter->d2l==2.0.0b0) (4.1.0)\n",
            "Requirement already satisfied: mistune<2,>=0.8.1 in /usr/local/lib/python3.7/dist-packages (from nbconvert->jupyter->d2l==2.0.0b0) (0.8.4)\n",
            "Requirement already satisfied: entrypoints>=0.2.2 in /usr/local/lib/python3.7/dist-packages (from nbconvert->jupyter->d2l==2.0.0b0) (0.3)\n",
            "Requirement already satisfied: webencodings in /usr/local/lib/python3.7/dist-packages (from bleach->nbconvert->jupyter->d2l==2.0.0b0) (0.5.1)\n",
            "Requirement already satisfied: packaging in /usr/local/lib/python3.7/dist-packages (from bleach->nbconvert->jupyter->d2l==2.0.0b0) (21.3)\n",
            "Requirement already satisfied: pytz>=2017.2 in /usr/local/lib/python3.7/dist-packages (from pandas->d2l==2.0.0b0) (2018.9)\n",
            "Requirement already satisfied: qtpy in /usr/local/lib/python3.7/dist-packages (from qtconsole->jupyter->d2l==2.0.0b0) (2.0.0)\n",
            "Requirement already satisfied: chardet<4,>=3.0.2 in /usr/local/lib/python3.7/dist-packages (from requests->d2l==2.0.0b0) (3.0.4)\n",
            "Requirement already satisfied: certifi>=2017.4.17 in /usr/local/lib/python3.7/dist-packages (from requests->d2l==2.0.0b0) (2021.10.8)\n",
            "Requirement already satisfied: urllib3!=1.25.0,!=1.25.1,<1.26,>=1.21.1 in /usr/local/lib/python3.7/dist-packages (from requests->d2l==2.0.0b0) (1.24.3)\n",
            "Requirement already satisfied: idna<3,>=2.5 in /usr/local/lib/python3.7/dist-packages (from requests->d2l==2.0.0b0) (2.10)\n",
            "Building wheels for collected packages: d2l\n",
            "  Building wheel for d2l (setup.py) ... \u001b[?25l\u001b[?25hdone\n",
            "  Created wheel for d2l: filename=d2l-2.0.0b0-py3-none-any.whl size=80070 sha256=13bb063375ec741e3d1cb103025b37e2c81596dfcf76f24a258c25bbe52685ed\n",
            "  Stored in directory: /tmp/pip-ephem-wheel-cache-z4b5bpkb/wheels/73/f4/42/d2b85ca46d85a241d6aa57c1c24027de2d2258202bb67945f9\n",
            "Successfully built d2l\n",
            "Installing collected packages: d2l\n",
            "Successfully installed d2l-2.0.0b0\n"
          ]
        }
      ],
      "source": [
        "!pip install git+https://github.com/d2l-ai/d2l-zh@release  # installing d2l\n"
      ]
    },
    {
      "cell_type": "markdown",
      "metadata": {
        "origin_pos": 0,
        "id": "LnRiPEL9ufVr"
      },
      "source": [
        "# 图像分类数据集\n",
        ":label:`sec_fashion_mnist`\n",
        "\n",
        "(**MNIST数据集**) :cite:`LeCun.Bottou.Bengio.ea.1998`\n",
        "(**是图像分类中广泛使用的数据集之一，但作为基准数据集过于简单。\n",
        "我们将使用类似但更复杂的Fashion-MNIST数据集**) :cite:`Xiao.Rasul.Vollgraf.2017`。\n"
      ]
    },
    {
      "cell_type": "code",
      "execution_count": 3,
      "metadata": {
        "origin_pos": 2,
        "tab": [
          "pytorch"
        ],
        "id": "EIfxQzawufVs"
      },
      "outputs": [],
      "source": [
        "%matplotlib inline\n",
        "import torch\n",
        "import torchvision\n",
        "from torch.utils import data\n",
        "from torchvision import transforms\n",
        "from d2l import torch as d2l\n",
        "\n",
        "d2l.use_svg_display()"
      ]
    },
    {
      "cell_type": "markdown",
      "metadata": {
        "origin_pos": 4,
        "id": "p1hsvpqwufVt"
      },
      "source": [
        "## 读取数据集\n",
        "\n",
        "我们可以[**通过框架中的内置函数将Fashion-MNIST数据集下载并读取到内存中**]。\n"
      ]
    },
    {
      "cell_type": "code",
      "execution_count": 4,
      "metadata": {
        "origin_pos": 6,
        "tab": [
          "pytorch"
        ],
        "id": "B0TVZVnsufVu",
        "outputId": "948e61c2-2816-48a5-d5dc-7843a87732e2",
        "colab": {
          "base_uri": "https://localhost:8080/",
          "height": 451,
          "referenced_widgets": [
            "8b28927f0f5241ae91e21c92d9cb711b",
            "1c2db3f8a56e4a74bcd1586d452aa644",
            "8c83778f69e14b67bb9cc89b306213dc",
            "42b3ce18f4224fd08a73e79a08175a0b",
            "4d7733da4b774c9385b4dfd96d22fd94",
            "0f625958ee464ed2bfebe60c84d3bb14",
            "5fb50e17d83547c7825d1a233573a405",
            "62c47ad30bae42f998ee1a40e1e87dd7",
            "21a6285ee0594c848acc4c12811f8932",
            "164225c5cc7f41bcb4e83158eb4f1d02",
            "b99ac187337e4c95b93d9c82c12a9d48",
            "919712bbacb844d28b90a398610b2988",
            "ee1ff3f834f244a3ab81c7fd840cbaea",
            "0a9a35d05cfc4ab7981d4ec14d149a56",
            "5df06f225a694358877e005283be86f1",
            "5f84138449894c11a68a8869cdfd1438",
            "219b83d2792f4524abdcec9054450da8",
            "7181da52e6ca46f3befcf7dd4732610a",
            "1e19dca628114327b10d807ca1482a16",
            "b45363f9f5b54ca4acecd2d0e5857d87",
            "1a888d934b384059af55c329affa13a3",
            "3e55c96229de4ab6958145b593b86075",
            "823605712f804a17acfea467a67b8c2c",
            "0a00fb38557b4194bd604c9485946221",
            "c351cf09c77d43859ab0a700fe222920",
            "5d127cd6a0664c4da61ffc7a70b33ec3",
            "be45d8b43e5b4644a25b7f72f75e0938",
            "b3e23b5d0e174c039462e77e5fded820",
            "40daac59674f49bca39f07455403549f",
            "23e0958f270a4e66b2e4e97136a1d067",
            "6f33024350dc4aa4b99a8c59bdaafc9a",
            "9fbcafef971545398fa05950e2fc2e1f",
            "bb8f5c6301534f0f8db72ecd1787f01c",
            "2fade53354c24d70ba53470c0bcb0b44",
            "d845cf722d6e49d49d7b077e40673628",
            "f6660c4b8ed9478e94cce1094c6dcd44",
            "bf05b3b3fb6e4ddcbbe9ae6dace4fa88",
            "6d1993ea1926408c9e7fc7a3f2beb64a",
            "23c4fc7aaf8c4853946e81763ae5020c",
            "468f3cab24cb4696b88e68ff0f2c1970",
            "2f59c92d9c9c435887b9c6bc121b7449",
            "79204d052cf94b699b5d104f48522d9e",
            "6373d89cee944395a515893b0af64be2",
            "200e308ddbe34d4891ef670dfd13566a"
          ]
        }
      },
      "outputs": [
        {
          "output_type": "stream",
          "name": "stdout",
          "text": [
            "Downloading http://fashion-mnist.s3-website.eu-central-1.amazonaws.com/train-images-idx3-ubyte.gz\n",
            "Downloading http://fashion-mnist.s3-website.eu-central-1.amazonaws.com/train-images-idx3-ubyte.gz to ../data/FashionMNIST/raw/train-images-idx3-ubyte.gz\n"
          ]
        },
        {
          "output_type": "display_data",
          "data": {
            "application/vnd.jupyter.widget-view+json": {
              "model_id": "8b28927f0f5241ae91e21c92d9cb711b",
              "version_minor": 0,
              "version_major": 2
            },
            "text/plain": [
              "  0%|          | 0/26421880 [00:00<?, ?it/s]"
            ]
          },
          "metadata": {}
        },
        {
          "output_type": "stream",
          "name": "stdout",
          "text": [
            "Extracting ../data/FashionMNIST/raw/train-images-idx3-ubyte.gz to ../data/FashionMNIST/raw\n",
            "\n",
            "Downloading http://fashion-mnist.s3-website.eu-central-1.amazonaws.com/train-labels-idx1-ubyte.gz\n",
            "Downloading http://fashion-mnist.s3-website.eu-central-1.amazonaws.com/train-labels-idx1-ubyte.gz to ../data/FashionMNIST/raw/train-labels-idx1-ubyte.gz\n"
          ]
        },
        {
          "output_type": "display_data",
          "data": {
            "application/vnd.jupyter.widget-view+json": {
              "model_id": "919712bbacb844d28b90a398610b2988",
              "version_minor": 0,
              "version_major": 2
            },
            "text/plain": [
              "  0%|          | 0/29515 [00:00<?, ?it/s]"
            ]
          },
          "metadata": {}
        },
        {
          "output_type": "stream",
          "name": "stdout",
          "text": [
            "Extracting ../data/FashionMNIST/raw/train-labels-idx1-ubyte.gz to ../data/FashionMNIST/raw\n",
            "\n",
            "Downloading http://fashion-mnist.s3-website.eu-central-1.amazonaws.com/t10k-images-idx3-ubyte.gz\n",
            "Downloading http://fashion-mnist.s3-website.eu-central-1.amazonaws.com/t10k-images-idx3-ubyte.gz to ../data/FashionMNIST/raw/t10k-images-idx3-ubyte.gz\n"
          ]
        },
        {
          "output_type": "display_data",
          "data": {
            "application/vnd.jupyter.widget-view+json": {
              "model_id": "823605712f804a17acfea467a67b8c2c",
              "version_minor": 0,
              "version_major": 2
            },
            "text/plain": [
              "  0%|          | 0/4422102 [00:00<?, ?it/s]"
            ]
          },
          "metadata": {}
        },
        {
          "output_type": "stream",
          "name": "stdout",
          "text": [
            "Extracting ../data/FashionMNIST/raw/t10k-images-idx3-ubyte.gz to ../data/FashionMNIST/raw\n",
            "\n",
            "Downloading http://fashion-mnist.s3-website.eu-central-1.amazonaws.com/t10k-labels-idx1-ubyte.gz\n",
            "Downloading http://fashion-mnist.s3-website.eu-central-1.amazonaws.com/t10k-labels-idx1-ubyte.gz to ../data/FashionMNIST/raw/t10k-labels-idx1-ubyte.gz\n"
          ]
        },
        {
          "output_type": "display_data",
          "data": {
            "application/vnd.jupyter.widget-view+json": {
              "model_id": "2fade53354c24d70ba53470c0bcb0b44",
              "version_minor": 0,
              "version_major": 2
            },
            "text/plain": [
              "  0%|          | 0/5148 [00:00<?, ?it/s]"
            ]
          },
          "metadata": {}
        },
        {
          "output_type": "stream",
          "name": "stdout",
          "text": [
            "Extracting ../data/FashionMNIST/raw/t10k-labels-idx1-ubyte.gz to ../data/FashionMNIST/raw\n",
            "\n"
          ]
        }
      ],
      "source": [
        "# 通过ToTensor实例将图像数据从PIL类型变换成32位浮点数格式，\n",
        "# 并除以255使得所有像素的数值均在0到1之间\n",
        "trans = transforms.ToTensor()\n",
        "mnist_train = torchvision.datasets.FashionMNIST(\n",
        "    root=\"../data\", train=True, transform=trans, download=True)\n",
        "mnist_test = torchvision.datasets.FashionMNIST(\n",
        "    root=\"../data\", train=False, transform=trans, download=True)"
      ]
    },
    {
      "cell_type": "markdown",
      "metadata": {
        "origin_pos": 8,
        "id": "Y_72brImufVw"
      },
      "source": [
        "Fashion-MNIST由10个类别的图像组成，\n",
        "每个类别由*训练数据集*（train dataset）中的6000张图像\n",
        "和*测试数据集*（test dataset）中的1000张图像组成。\n",
        "因此，训练集和测试集分别包含60000和10000张图像。\n",
        "测试数据集不会用于训练，只用于评估模型性能。\n"
      ]
    },
    {
      "cell_type": "code",
      "execution_count": 5,
      "metadata": {
        "origin_pos": 9,
        "tab": [
          "pytorch"
        ],
        "id": "acc_UH9dufVx",
        "outputId": "2426edd3-a5ab-4816-e327-16bd857ef5d7",
        "colab": {
          "base_uri": "https://localhost:8080/"
        }
      },
      "outputs": [
        {
          "output_type": "execute_result",
          "data": {
            "text/plain": [
              "(60000, 10000)"
            ]
          },
          "metadata": {},
          "execution_count": 5
        }
      ],
      "source": [
        "len(mnist_train), len(mnist_test)"
      ]
    },
    {
      "cell_type": "markdown",
      "metadata": {
        "origin_pos": 11,
        "id": "tszbojSAufVz"
      },
      "source": [
        "每个输入图像的高度和宽度均为28像素。\n",
        "数据集由灰度图像组成，其通道数为1。\n",
        "为了简洁起见，本书将高度$h$像素、宽度$w$像素图像的形状记为$h \\times w$或（$h$,$w$）。\n"
      ]
    },
    {
      "cell_type": "code",
      "execution_count": 6,
      "metadata": {
        "origin_pos": 12,
        "tab": [
          "pytorch"
        ],
        "id": "CV509xAwufV0",
        "outputId": "7f9341ea-cd7c-4803-f3bf-23f665a6333c",
        "colab": {
          "base_uri": "https://localhost:8080/"
        }
      },
      "outputs": [
        {
          "output_type": "execute_result",
          "data": {
            "text/plain": [
              "torch.Size([1, 28, 28])"
            ]
          },
          "metadata": {},
          "execution_count": 6
        }
      ],
      "source": [
        "mnist_train[0][0].shape   #在example0中的第一张图片"
      ]
    },
    {
      "cell_type": "markdown",
      "metadata": {
        "origin_pos": 13,
        "id": "Jk3HoygiufV1"
      },
      "source": [
        "[~~两个可视化数据集的函数~~]\n",
        "\n",
        "Fashion-MNIST中包含的10个类别，分别为t-shirt（T恤）、trouser（裤子）、pullover（套衫）、dress（连衣裙）、coat（外套）、sandal（凉鞋）、shirt（衬衫）、sneaker（运动鞋）、bag（包）和ankle boot（短靴）。\n",
        "以下函数用于在数字标签索引及其文本名称之间进行转换。\n"
      ]
    },
    {
      "cell_type": "code",
      "execution_count": 7,
      "metadata": {
        "origin_pos": 14,
        "tab": [
          "pytorch"
        ],
        "id": "GPmPT_H4ufV2"
      },
      "outputs": [],
      "source": [
        "def get_fashion_mnist_labels(labels):  \n",
        "    \"\"\"返回Fashion-MNIST数据集的文本标签\"\"\"\n",
        "    text_labels = ['t-shirt', 'trouser', 'pullover', 'dress', 'coat',\n",
        "                   'sandal', 'shirt', 'sneaker', 'bag', 'ankle boot']\n",
        "    return [text_labels[int(i)] for i in labels]"
      ]
    },
    {
      "cell_type": "markdown",
      "metadata": {
        "origin_pos": 15,
        "id": "qvyH7Cu2ufV2"
      },
      "source": [
        "我们现在可以创建一个函数来可视化这些样本。\n"
      ]
    },
    {
      "cell_type": "code",
      "execution_count": 8,
      "metadata": {
        "origin_pos": 17,
        "tab": [
          "pytorch"
        ],
        "id": "uBywfhELufV3"
      },
      "outputs": [],
      "source": [
        "def show_images(imgs, num_rows, num_cols, titles=None, scale=1.5):  \n",
        "    \"\"\"绘制图像列表\"\"\"\n",
        "    figsize = (num_cols * scale, num_rows * scale)\n",
        "    _, axes = d2l.plt.subplots(num_rows, num_cols, figsize=figsize)\n",
        "    axes = axes.flatten()\n",
        "    for i, (ax, img) in enumerate(zip(axes, imgs)):\n",
        "        if torch.is_tensor(img):\n",
        "            # 图片张量\n",
        "            ax.imshow(img.numpy())\n",
        "        else:\n",
        "            # PIL图片\n",
        "            ax.imshow(img)\n",
        "        ax.axes.get_xaxis().set_visible(False)\n",
        "        ax.axes.get_yaxis().set_visible(False)\n",
        "        if titles:\n",
        "            ax.set_title(titles[i])\n",
        "    return axes"
      ]
    },
    {
      "cell_type": "markdown",
      "metadata": {
        "origin_pos": 18,
        "id": "aP-z5NYiufV4"
      },
      "source": [
        "以下是训练数据集中前[**几个样本的图像及其相应的标签**]。\n"
      ]
    },
    {
      "cell_type": "code",
      "execution_count": 9,
      "metadata": {
        "origin_pos": 20,
        "tab": [
          "pytorch"
        ],
        "id": "kykNZGJ9ufV4",
        "outputId": "735d06d5-e79a-4362-a875-79c9e513c806",
        "colab": {
          "base_uri": "https://localhost:8080/",
          "height": 298
        }
      },
      "outputs": [
        {
          "output_type": "display_data",
          "data": {
            "text/plain": [
              "<Figure size 1080x216 with 20 Axes>"
            ],
            "image/svg+xml": "<?xml version=\"1.0\" encoding=\"utf-8\" standalone=\"no\"?>\n<!DOCTYPE svg PUBLIC \"-//W3C//DTD SVG 1.1//EN\"\n  \"http://www.w3.org/Graphics/SVG/1.1/DTD/svg11.dtd\">\n<!-- Created with matplotlib (https://matplotlib.org/) -->\n<svg height=\"192.903056pt\" version=\"1.1\" viewBox=\"0 0 854.9 192.903056\" width=\"854.9pt\" xmlns=\"http://www.w3.org/2000/svg\" xmlns:xlink=\"http://www.w3.org/1999/xlink\">\n <defs>\n  <style type=\"text/css\">\n*{stroke-linecap:butt;stroke-linejoin:round;}\n  </style>\n </defs>\n <g id=\"figure_1\">\n  <g id=\"patch_1\">\n   <path d=\"M 0 192.903056 \nL 854.9 192.903056 \nL 854.9 0 \nL 0 0 \nz\n\" style=\"fill:none;\"/>\n  </g>\n  <g id=\"axes_1\">\n   <g id=\"patch_2\">\n    <path d=\"M 10.7 93.250328 \nL 81.632203 93.250328 \nL 81.632203 22.318125 \nL 10.7 22.318125 \nz\n\" style=\"fill:#ffffff;\"/>\n   </g>\n   <g clip-path=\"url(#pb4ab0c148c)\">\n    <image height=\"71\" id=\"image2f4111940b\" transform=\"scale(1 -1)translate(0 -71)\" width=\"71\" x=\"10.7\" xlink:href=\"data:image/png;base64,\niVBORw0KGgoAAAANSUhEUgAAAEcAAABHCAYAAABVsFofAAAABHNCSVQICAgIfAhkiAAAGJdJREFUeJztnMmPZcl13n8x3eENOWdVVrG6u9jNFskWKbJt2RIMyIAAWzC88cYr77iy/hr/BV56bUCG4YVgy5AhCTThQbQgttjNavZUWWNmvnzDfXeIiONF3HfzZU2m7VYXFx1A4WW+vO/eiC++c853zolX6h+pfy58PV449OuewK/z+BqcV4yvwXnFsF/KXbRBZw60BmNQSiEiEAIAylowBkJAvIcYAdI1URDfgfz6ub4vBRwzGcPNI3CWOM4JmUF1AV13APhpgS8NponYyzWqCxAiKkZU3RIePUG69suYypc6/u/BUer598qCuFMSM0u34wiFRreCW6bbNweObqyxtVAAugsoH1E+gtaozCX2fFXjV2TprwSOchnm5jEyKmju7DG/mxEdhEwhBnwJ7a4gVoi5IE5QQYPP01yKgMo7pNOoKkcFUAJEhWkhm91EbxFHB9CtoEL/fAEkvY8AL9if64sHJYKKoOIzC64j+dMW3QbMqkVVNdQN4en5c+y1AxNegaYqcro3j6hv5Dz5oeWtf/gpN8oFd4oZ+27FrllzYmdkKqCJGBUxCFpFDBGnAoUKdKLpxBD61RmEWRzxUXNCFTOCpPiwDDkfV0csu5wo6doQNcsuowsGrQSj43Pz3FzrgyFEhY+arrOIJMIrJazPS8b3RrgVlE8j+YUnu2jQy9ULwHkOCYUuS5S1qFEJo5I4KVjdKan3Fc1B4Ea54Ga+GIAZ64ZMBZzyz4ECkJHAogdtM7QSAmuO7ZxVzIf3R6agihkrmw+L7kQz9RlttFgV0Or5zdyAU/kEdBcMtbdEURgd0UrwnaHdt4RcIVrTlY5ibJhU38AuVsjlnDC77MF5hjF6MkG+/RbNXs7s3YzZdwQpAqOjBdOy4d28xijhvB3zqJniY9pJ3fPXqTQJp8OwCKfCANRmUaa/PohmGRJDXH99FEUURa49VgcM6VqdXwf22WGIdGJ41EwT66zGZ4mNmfZYHZlmDWfTMT5orIkYHXmyLDk93cMu97n9Z57sj/8HxPA8c1TmqI9K1keG+TvC9374Ccf5kjfLc3ZtxdNuyoN6l3VwnDcjau+GxWwmvaF9bjxaCVZFdA+a7c1BbzEo9maWaT+Am2uPVol9ufYYFclVetXPOhIYGNmJYRVy2miBMDwrNx6rIruu5tZojlWRO8UFt7IZ99t9/uLwbR4vJizv7XGoFRI3ZqUU9s07dHcOWR1kPH7f0hxGslsrRrYlonjSTpn7glk34qIt8WISU0xAIwNtM+0HEErToZG0+8/stO7NL8qVDo0v8LSdGGJQaCXUyg0M2TBne1OcCkQUQRRWRbzotHkoZm05XGt1xKpIFMUy5KxDxmGxwqjI57f2OfzBt9E+bsDRrL99k4e/k1EfRX74/kf89t5nXPgRs25EEw2n6x3aaGmCZd05tBJK21HajsJ0TG2D1YHSdOTaJyesEzhOJ18UUDTREUQnU9N+ACeIpooZ6+AIaHw0aQMEwsbRRnMFhE6s6KIhihqenQDTOB1ovWHtHW00XK4L6tZhTKRwHqMjs6bkvt1lJ6v51vgJjODnb9/i8d/bQUWwKs9R1tJODc1+hN2O42LJgV3SiWHWjTC9qWglPRNiTzi5bkpKMCRnbFRMjNqKXPSgbABzKrCJ11E0kWSeAT34qE5Mb7YadLpOD/7qimlREqDDPXpTjyhErv+LAmrrs9tg6zwQygwiWP2tu4jVXL5juPHdR+zmNevg+J/LN4cPZ9rz1miF1ZGVz5l1JV40PurB33jRxKCGBfXmjlbCSLfX2JTrjkJ1AwAb5zwRS2cNTgV29BqnAquYUcWcQGJWFy1VzJ5z4uuQMfc5UTRtNPioe7+TNrHIOrSOOBMprMeZwGGx4iCrkitA6MRgbKSbkMDpjkZEo6mPhN8//gynAvfrPWbtiJFtmdoGpyKHbsXU1FyaEq0iXgyztqQOdqC3VhGCpVPmmj+INrFhpFtGqhmAccoPbAMoVEdAM9YNJ+aSQnnmkrOIBZ1Y5qGglowLP2YdHEZBadK9OjG00Q6gbDbuihkR7dJrYTsyE9h1a46zxRAcoiiMjYRCenBGFjGK6GRwpAdZxdi0WB1wKmJ1SLsmhk7MsFt72ZouGnLtGdvmmiNdB8esK5OvEEMUP3weoJbkXJNA7HDKM9Yte7oioLjv9wmoQT855Tm0SwB29JqJqYmirwRlzz4fDU20eNEEUYOpbQCwOpDrgNOBg16nbaJiFTN8ZyguFSqAbfYMYiAWyVcUumM3X2NU0gx1dHRimPuCJlpK0zExDaa/oVOBkW45tnMAVjGnFsfjboenzQQvOgGsQm8GOUZFqpDAzrXnyC0oVMehXfKGnXEWS35avcVZN+aN4px384eMVctNs6RQkdpqGjG0aJ6EaXqmcdxwczoxNP2cQ6/IjYrsmjUjnTYwoAe/uGHwjq6ZxwLfGManMYETnSIaQCfW5MpfRRfRmD7kpd2RAUCNUOhE6Wn/4I0GcdGz1AW58dCbXRQ9ON8rJ3qVRmglLELJPdGchwm/XB9x1owAGOmWcb+wqa4JqOusQchUAFoypXsxaAmoBA4yzHGYy+CM48DOTAUIClunvM62k5Q82mnHd8tTNJEv2kMuY5YEmPKMbMuRW6JVpFAdU1P3WiNFokK3jFWLU54TM8epyIm9xKnAIhTMfcEy5OQwOOSRbgkoprrmbvYUTeRfffYHfPizO6hOoRuFEvjLnbdRuy1aC3nR4UzgYFxxd3LO2Da8Wz4eWJs2L9Aqiyaie7PdpDJD6tKb4OZ3zZVaV5WhfNiggmBDCWKgHDW84c7oxPJZe8TcF+zYmpFpcCpwYJYUfZTZ7OJmbPxGRuTIdEy1oVAzKsmZh4J73GTuk//ZRCqtEwv3TMVte0kUxS8eHnPrvyhUFKIF0dDsapq9MmX/mdBamB1OOT8ZsVvW7Nyo2TWra47dEJOf2UiLPtfbjA0oGz81pDIoTK1xF2vwATv9PBINPDwfc7/bJ+t9yI1s0YfgZDobhduJZRGvV1c1iVFGRWppKZRnFsfMwog6Jsdbmqtw7lRgrBsK3XHmJ/zrp7/H02ZCWDlWJ5rooD4WQi7EPEAeQYEyEaWFsuwY5y3OpMi6Do7SdBzY1cBmrSJBoBGXflZ6iI6F6oZ5b+d4nViUJ5UxOo/d/c/3UJnj8u27/PQHb3KSX3LbzQZ2hC3bjqKpxF3LoDc75VQgoK+cIYou2iEl2LE1I90OzDu2c47Nip9Wb/If/vTvUjzWuH3h8j1PfrDmD9/7c35n9Ase+j0e+t3B0QbRPO6mnK53qYPjg/ObVK3jYLTmmztnjE3LcbZgauohOgbRg3/MdcehWfYbHnEEIpqOFHxspYiPniBtiw1n5+jM4ZZ3+Xy9T0BzbBc45VN9RQE9QEnlcs0ZAkQ0AU0UzSIUNGL7nZGrV9XTe8veDUIVM+xSk10KzT643YaTvQV/p/yE9zPPA3PKJ2ZFJ5ZVzIfos/L5kF+FoOmipouGTuvepCIaReiZu6kVOUmb6NgSoJJmaVRERZDOI95jkYh4z/6HHf/rT36D/3YQ+eT7h/xg7wtGumXXVGglg2ItVAeGIZJpIrVkgw7aMGWzS8A1Bi1CyUrlzGPJPSILX9Dcael2LLvvXPBP3viAiWn4sD3hs64lomnFYoiMdfJ/3y4e8IPyM1oxPDnYoepB6yQJ0Zv2kh1TU0fHTI8I6Gt/H/wLMqxp3GutHkugr+dICIzunXNLDljetnxwfJPCdhxlK7rcDKF0sNXt3VcRAlxKSRdtMsM+hypUKjs0yOB7qpgNr1XIWPqM/eMF7b7lH7/xc/7w8C94EjL+3fx9Tus9duyaHVsns3CeQne87Z7yXedwygAVAL/slvy0PaEVww2zYKQbqpjjVKAWxyIUW0muwvRdKUNkrDqOTIdWK6KVLXAARFBVTX5WI6Zg/uGY/zp7B7KIzQPGBkZFS+6SQ7M6FYmmriEzniiKNlo0wnGxZMeuB+Zkyl857t5ZBlSiuYE9t+b2zpwmWEa65XM/YhaTvsn7AtVGP23KsJ1oLmKNQ6GVwqA4jxmft4d0YqhszqjfzKleMyVVK+vohjmYXpYkX6m4jIYnYYwO6hlwgPDoCepyzuhjx7c+2EHy1IcSo0Br/HREzDS+NLQTTcgUTw8UvoSYgy+FUAj7b5/zW8cPyLVnz6wY64ZRzKli3keHtDO1Tg7zlpvx3ui0Z1POny6/29dkNDt2zci0gy4qdHLms1gya8sU9VRLoQJ/1dzhz2fv0AbDblZTmo7fGD3kn07+mqkSAtAJ1KK5jDkBRaFSca2Kjk+6Iz7vDjA1z4MjXXtVYD4759rQBre7g8ozZDom7o0JucFVOe1Y40vopgpfKubHI55MJ1gVWRRlypL7iIGCjGSahe4wEoewrol82h7zwO+i1UZ9yyDeDHEQa51YanHpdwOBjkUoqXxG4y1aCV1M0a1QwkgboghBCUYilQTolbMjElDMwogLP04iXuJ1cABe2omQiKzXSNuiug5T1RhrcBcjYmERZ4i5IThNda/gdHqXX+4r/tPt7yFlYHq04vbOnIO84nvTU6amZmrWQypw5icEUgTct1UqieqtkkZf+TsPE2ZhlKJjHxA6sRS6ZaQbfmv3fsrfdNJS+3bFJ35CobpeXuhrkbZQnkJFFrHkJ4tv8vHiCLd41udsgFG9uJPrORAixLrn22r1PJikprsGdpVGaYX5xi1W753Q7ljO39vnw7dGjHfX7GVrbmbzHpw1i1hy2YtFpz1TU+OUZ9R3NDaRJojm3E+GiLMReq1YiphM7v3RpxgVh7AdUHzeHQJQx1RhzJRnqmuKvlHmVEqWP7g44eH5DgdLQaK8gDlcUeq58aJO54t6XRKQCFLV5BcNpnWMTzOU5Kwnjj9ef4eybPn9Nz7ijf2zYde3F7ypKm50VUCBYquDEa+xajMCKuUc/UjtoFSKNSrSRQOKPiFN5lcoRS2Op4sx3UWOXb+IOSLPM0YplDH9z/1D9RVI0vkrMJ8BKl5cYH7WYJzl5BdjJM/AGmLp8NOCf/+j7/Mvfu/HjFVLcJpaXPIl0fWlBD/0uopNIX5LXz0LTqoUJuU+0k2vYTzjPhqFoKlJCruOjqg0jsiuLjj3E/wvpux9phidrl7ic54BZgBE6QEUtc0grZ7DcwDOe8I8ZcvPOvhsZwf1z95LTlVd5WWrCJ0yg+M1fd05PThS0BH6ksR2eyb2ha2NOSWmpIk55dGir4Fo0IRBvauk0heK/DJi1t3AxZeDIwLEtHglEEBpxTY/pD9i8tJW8kscvLQtB3+l+NHejzg4WvAvv/VnfCc/HVKKbeYElRZdbEDsddKmXjML40FgDoBu/bxJdHWMQ5YOSQh+7A+4jCs+Xh+BJnVB7ZVZvvogwWZRPT1e5o5eBszGJCWEawDFtuPoJxeMH005+80jPrlzxN8vfpl6X/3ks37nA6p3pIEDU1GoQC2GKjpqcZzJhFrcVhEuXlPwWZ9DZSpsAZNywU/aY34eb/Pp8gAxEHKIzgxZ45dzeOklQ6Kg9MY843UG6VR4j4Y+9EbM1t/bvtYM9PkVLGJGhVCLYyWpHx7RQ6jfXNuJJRJpxdBiBkA2uWChO6JoPqsP+WK9z6wu8YXQ7ii6HUe5twfhBe3gLw+Z5OBFegYpxybJVcbg90uWtwzNgXDDzRmpwAKoJB8WAwwl0VYMi1gOCWQTHRrhwC4Z6WZIUBOwm9ckHXUv9JwKTPWaN+0FtVj+zYPf5a8/ugNKULcbqhPFxTrHLd+CKH+7zBlAguTQt4pkwWlCqYhF6B0yAyhXNeLkaDcLv/DjoTDfREuuPbu2IlOBtn/Mpim4aQJmMVxrOxeqY1d3OInM6hJ7ZgnjSLm/xphIu5PT7rrU8fxbB4fevJQMTktCoHiwZD/XROv4m/UtfjO/zyyOBmBqcQN7NkX+OjqWIWflcy67gsJ4vpFfUOiOEDVNcP0+xCHp3einWkyqYqqSJ7GiE8PdnXMe350wzj1v7M0AuFfs9YeevgrmDBErDsqTGJBPvmD0eER03+SD+Qn3xjeGjwRRrGLqXrr+ZEVAD8A8aSacrUeMXEe3YyhUx4qcujenqarJVCrJZioMJdCNDnJ9peC9yQPKb6be/mG2pAoZHxZvpipF+MrMKiJRXwt34j2qadCNsPap3rIp4NNrmcjVIQO4EnzXjq8Mie2V/gp97qV7p7wZmyi2ue/U1NwuEmNy5amVQ3mFrQIqxK/GrF6kvqVtiSFg14HHyzH36hu8mZ9znM+ThhFFJ1e5VcqphNJ0FLZj5Dpy46lixkO/N3RSYXP4QKOVo5asr3GnQpnZAuzd/CE/KBvOw4Sf17dY+Zx8psg+Ou3LpK9riCDeo7tI21pm3Yhb2eWQD2UqDNn3xsFuTpBl2pMbT6Y9XTRDdXHTckknNpL63ZzK2LAybL13YJacmIaMwM+5RRMtpobw9Ow1g7MZIsSgWQfXZ85qAAS4atuaq6hTZRlVkeF04IabD52STQjfjM1nNz9vxlANRNBAi+FBu8ujenrtVOtrB0dFIXhD5R2N2EHYbcoUV+YgnFg/lDc3JzLq6Ogww+e2W0lwxaaktK/ax2YAKJUzTte7PFjsYJoXZeWvaYhK5YjNwShIzbbhJGofcbYbh5t8yYjQKdP34Z85Qtezr+pBruJVNNvuOuTqgkpyMh3Irafe6le+dnDQiiz33CiWHNhUczakrmREX5UuYNj5OjoqUljeONdakllu+6n77T4fLE5YdjmPlhNW67w/3QXGCN+/dcrv7v0SrSK/vfsJd0dn/NHuyTC1r07nbI+tHEoUOOcZm2boo8OVFtk+t1xL8kmR6yIRNnXl7JpCPmsnfDbfZ1nnrM5G6IUZTs4HI3yUHXOUrzjOFrw/+pQTe8m/zRlKNV9d+vCSYRcN1Ud7/FH9fX77jT32jlepX6+aa33s2NeYN4KuE0Mtji/aAxahYNaVPKkneDHDqa5ZXfJ0NiF6DQKSS5pOX4aZnY/5k+Zd9iZrljdzrI6IAX33Dqr7NYhW+vEFJz/eYf3RmB//g7f59uQRu7bixF5S6I62l/2bHAuuROFlGPGTi7s8XE65XJa0FwUqqFR7ioq+kIhSIKOIlCG1foOCqMjuZ2QXOeeHE/7je45p0RCdsHzvKJ3PeY24ACBdR3HeAY6LpeXCj1K6YBdAcqybyFWL6/MuSxVy5r5g0easW4fvDMorlFfoVqUjOD04STxrJCikL22omK7TLZhasVoVdN5g2hQgUL8G4MTFkvzDh2Tjksu3b/Ljt+9ye3LJmzeecmCWPJRdZn5EFXJOmz3mPufe5REPHu+BgM091kaMDYS9lthp1JnDrDWmhnwm6A5cBaaBbmSoD1X61k8O6xuCiorsb0qUL9n7RWD88TwdmHzd4EjT4O+folxG+fgGTy+mKCVENDuq4QlCFXKWIedhPeWyLXnweI/8XpEON93uUDsNxghZ1tJ1Bn/h0B5sBeWZYNeR8nSFOVsQDqcs3pnSjhWr24puR3BzGJ1CthQmn1aoR+dfUT3nZWM7ivVO29ZCuHScmTFftAcc2zmn3T6PuymXXcnD1Q6LOkeCwpeS6B8UbeVgbXCXBtModh5DfhlxlVA8bdGNR19WyGqNtobRg4y8NJjOks01thImDz22CphFDU3zusHRKGfTdzy7FiRSXHhGn2fUzYi//MYdNMKn9QGfr/aZNwUPnu4SV2nK/sBDVKhWoSrH5FPNjf9eYZct+myOLFOLJbWPhNh5JATU7BL74DHOGMrxCMoifee0aZEYkWpNXFUgX1VW/kJstpijFBIF3UbsGmyluGhGPO6mXLQjlm3OqsmIlUWvDWLTtwKJYCqNaSG/FNyTJWpZES9mxKp64XMlhuFMgG5b1DpPGyQCMSJtBzGp89cGzrXqYF/zyR4v2fuFZbUwfHzjJk+WY+ra4RuLrC2jTy3Z/OoephXGDwPZvMNerOHxGbFtkfYFX6bdNuNe5In3yGqrpbIpyPXXvsaSRXy+wXoxZ/S5QfsJyweWhZ8O4dmtFOMHQnER0F5QXrBVwH14n/DoMa/sGm01KLcZm1pG/oXXKq1ef7TabidL26IXa/LMMv5igl3ZdLregV1DceEpnjSoKOnbxbWHdutbxS89JZKYidJXpdr/47Rep0PeTHhrIeHiErVcoZ+ec3J2gBQZ9Z0dlrcdrhImP3uKPHwyfGkfEeLGhF7RRBye97Le9Uuue73MeXYBMSBNIHQeLYLKHFnpyHYMtoqoZUVYLF58L6Vf/P7/x3j9ZvWiIRGpG+g6zP2n7Kw7aDvi/CXAQAJWXmJW/4/j1xQc6Y/hQXxYw8NHv/Lnvszx9f+C8orxNTivGF+D84rxNTivGF+D84rxNTivGP8bhICjxpMD+msAAAAASUVORK5CYII=\" y=\"-22.250328\"/>\n   </g>\n   <g id=\"patch_3\">\n    <path d=\"M 10.7 93.250328 \nL 10.7 22.318125 \n\" style=\"fill:none;stroke:#000000;stroke-linecap:square;stroke-linejoin:miter;stroke-width:0.8;\"/>\n   </g>\n   <g id=\"patch_4\">\n    <path d=\"M 81.632203 93.250328 \nL 81.632203 22.318125 \n\" style=\"fill:none;stroke:#000000;stroke-linecap:square;stroke-linejoin:miter;stroke-width:0.8;\"/>\n   </g>\n   <g id=\"patch_5\">\n    <path d=\"M 10.7 93.250328 \nL 81.632203 93.250328 \n\" style=\"fill:none;stroke:#000000;stroke-linecap:square;stroke-linejoin:miter;stroke-width:0.8;\"/>\n   </g>\n   <g id=\"patch_6\">\n    <path d=\"M 10.7 22.318125 \nL 81.632203 22.318125 \n\" style=\"fill:none;stroke:#000000;stroke-linecap:square;stroke-linejoin:miter;stroke-width:0.8;\"/>\n   </g>\n   <g id=\"text_1\">\n    <!-- ankle boot -->\n    <defs>\n     <path d=\"M 34.28125 27.484375 \nQ 23.390625 27.484375 19.1875 25 \nQ 14.984375 22.515625 14.984375 16.5 \nQ 14.984375 11.71875 18.140625 8.90625 \nQ 21.296875 6.109375 26.703125 6.109375 \nQ 34.1875 6.109375 38.703125 11.40625 \nQ 43.21875 16.703125 43.21875 25.484375 \nL 43.21875 27.484375 \nz\nM 52.203125 31.203125 \nL 52.203125 0 \nL 43.21875 0 \nL 43.21875 8.296875 \nQ 40.140625 3.328125 35.546875 0.953125 \nQ 30.953125 -1.421875 24.3125 -1.421875 \nQ 15.921875 -1.421875 10.953125 3.296875 \nQ 6 8.015625 6 15.921875 \nQ 6 25.140625 12.171875 29.828125 \nQ 18.359375 34.515625 30.609375 34.515625 \nL 43.21875 34.515625 \nL 43.21875 35.40625 \nQ 43.21875 41.609375 39.140625 45 \nQ 35.0625 48.390625 27.6875 48.390625 \nQ 23 48.390625 18.546875 47.265625 \nQ 14.109375 46.140625 10.015625 43.890625 \nL 10.015625 52.203125 \nQ 14.9375 54.109375 19.578125 55.046875 \nQ 24.21875 56 28.609375 56 \nQ 40.484375 56 46.34375 49.84375 \nQ 52.203125 43.703125 52.203125 31.203125 \nz\n\" id=\"DejaVuSans-97\"/>\n     <path d=\"M 54.890625 33.015625 \nL 54.890625 0 \nL 45.90625 0 \nL 45.90625 32.71875 \nQ 45.90625 40.484375 42.875 44.328125 \nQ 39.84375 48.1875 33.796875 48.1875 \nQ 26.515625 48.1875 22.3125 43.546875 \nQ 18.109375 38.921875 18.109375 30.90625 \nL 18.109375 0 \nL 9.078125 0 \nL 9.078125 54.6875 \nL 18.109375 54.6875 \nL 18.109375 46.1875 \nQ 21.34375 51.125 25.703125 53.5625 \nQ 30.078125 56 35.796875 56 \nQ 45.21875 56 50.046875 50.171875 \nQ 54.890625 44.34375 54.890625 33.015625 \nz\n\" id=\"DejaVuSans-110\"/>\n     <path d=\"M 9.078125 75.984375 \nL 18.109375 75.984375 \nL 18.109375 31.109375 \nL 44.921875 54.6875 \nL 56.390625 54.6875 \nL 27.390625 29.109375 \nL 57.625 0 \nL 45.90625 0 \nL 18.109375 26.703125 \nL 18.109375 0 \nL 9.078125 0 \nz\n\" id=\"DejaVuSans-107\"/>\n     <path d=\"M 9.421875 75.984375 \nL 18.40625 75.984375 \nL 18.40625 0 \nL 9.421875 0 \nz\n\" id=\"DejaVuSans-108\"/>\n     <path d=\"M 56.203125 29.59375 \nL 56.203125 25.203125 \nL 14.890625 25.203125 \nQ 15.484375 15.921875 20.484375 11.0625 \nQ 25.484375 6.203125 34.421875 6.203125 \nQ 39.59375 6.203125 44.453125 7.46875 \nQ 49.3125 8.734375 54.109375 11.28125 \nL 54.109375 2.78125 \nQ 49.265625 0.734375 44.1875 -0.34375 \nQ 39.109375 -1.421875 33.890625 -1.421875 \nQ 20.796875 -1.421875 13.15625 6.1875 \nQ 5.515625 13.8125 5.515625 26.8125 \nQ 5.515625 40.234375 12.765625 48.109375 \nQ 20.015625 56 32.328125 56 \nQ 43.359375 56 49.78125 48.890625 \nQ 56.203125 41.796875 56.203125 29.59375 \nz\nM 47.21875 32.234375 \nQ 47.125 39.59375 43.09375 43.984375 \nQ 39.0625 48.390625 32.421875 48.390625 \nQ 24.90625 48.390625 20.390625 44.140625 \nQ 15.875 39.890625 15.1875 32.171875 \nz\n\" id=\"DejaVuSans-101\"/>\n     <path id=\"DejaVuSans-32\"/>\n     <path d=\"M 48.6875 27.296875 \nQ 48.6875 37.203125 44.609375 42.84375 \nQ 40.53125 48.484375 33.40625 48.484375 \nQ 26.265625 48.484375 22.1875 42.84375 \nQ 18.109375 37.203125 18.109375 27.296875 \nQ 18.109375 17.390625 22.1875 11.75 \nQ 26.265625 6.109375 33.40625 6.109375 \nQ 40.53125 6.109375 44.609375 11.75 \nQ 48.6875 17.390625 48.6875 27.296875 \nz\nM 18.109375 46.390625 \nQ 20.953125 51.265625 25.265625 53.625 \nQ 29.59375 56 35.59375 56 \nQ 45.5625 56 51.78125 48.09375 \nQ 58.015625 40.1875 58.015625 27.296875 \nQ 58.015625 14.40625 51.78125 6.484375 \nQ 45.5625 -1.421875 35.59375 -1.421875 \nQ 29.59375 -1.421875 25.265625 0.953125 \nQ 20.953125 3.328125 18.109375 8.203125 \nL 18.109375 0 \nL 9.078125 0 \nL 9.078125 75.984375 \nL 18.109375 75.984375 \nz\n\" id=\"DejaVuSans-98\"/>\n     <path d=\"M 30.609375 48.390625 \nQ 23.390625 48.390625 19.1875 42.75 \nQ 14.984375 37.109375 14.984375 27.296875 \nQ 14.984375 17.484375 19.15625 11.84375 \nQ 23.34375 6.203125 30.609375 6.203125 \nQ 37.796875 6.203125 41.984375 11.859375 \nQ 46.1875 17.53125 46.1875 27.296875 \nQ 46.1875 37.015625 41.984375 42.703125 \nQ 37.796875 48.390625 30.609375 48.390625 \nz\nM 30.609375 56 \nQ 42.328125 56 49.015625 48.375 \nQ 55.71875 40.765625 55.71875 27.296875 \nQ 55.71875 13.875 49.015625 6.21875 \nQ 42.328125 -1.421875 30.609375 -1.421875 \nQ 18.84375 -1.421875 12.171875 6.21875 \nQ 5.515625 13.875 5.515625 27.296875 \nQ 5.515625 40.765625 12.171875 48.375 \nQ 18.84375 56 30.609375 56 \nz\n\" id=\"DejaVuSans-111\"/>\n     <path d=\"M 18.3125 70.21875 \nL 18.3125 54.6875 \nL 36.8125 54.6875 \nL 36.8125 47.703125 \nL 18.3125 47.703125 \nL 18.3125 18.015625 \nQ 18.3125 11.328125 20.140625 9.421875 \nQ 21.96875 7.515625 27.59375 7.515625 \nL 36.8125 7.515625 \nL 36.8125 0 \nL 27.59375 0 \nQ 17.1875 0 13.234375 3.875 \nQ 9.28125 7.765625 9.28125 18.015625 \nL 9.28125 47.703125 \nL 2.6875 47.703125 \nL 2.6875 54.6875 \nL 9.28125 54.6875 \nL 9.28125 70.21875 \nz\n\" id=\"DejaVuSans-116\"/>\n    </defs>\n    <g transform=\"translate(14.442977 16.318125)scale(0.12 -0.12)\">\n     <use xlink:href=\"#DejaVuSans-97\"/>\n     <use x=\"61.279297\" xlink:href=\"#DejaVuSans-110\"/>\n     <use x=\"124.658203\" xlink:href=\"#DejaVuSans-107\"/>\n     <use x=\"182.568359\" xlink:href=\"#DejaVuSans-108\"/>\n     <use x=\"210.351562\" xlink:href=\"#DejaVuSans-101\"/>\n     <use x=\"271.875\" xlink:href=\"#DejaVuSans-32\"/>\n     <use x=\"303.662109\" xlink:href=\"#DejaVuSans-98\"/>\n     <use x=\"367.138672\" xlink:href=\"#DejaVuSans-111\"/>\n     <use x=\"428.320312\" xlink:href=\"#DejaVuSans-111\"/>\n     <use x=\"489.501953\" xlink:href=\"#DejaVuSans-116\"/>\n    </g>\n   </g>\n  </g>\n  <g id=\"axes_2\">\n   <g id=\"patch_7\">\n    <path d=\"M 95.818644 93.250328 \nL 166.750847 93.250328 \nL 166.750847 22.318125 \nL 95.818644 22.318125 \nz\n\" style=\"fill:#ffffff;\"/>\n   </g>\n   <g clip-path=\"url(#pc7ebc81c00)\">\n    <image height=\"71\" id=\"imaged1bea3d497\" transform=\"scale(1 -1)translate(0 -71)\" width=\"71\" x=\"95.818644\" xlink:href=\"data:image/png;base64,\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\" y=\"-22.250328\"/>\n   </g>\n   <g id=\"patch_8\">\n    <path d=\"M 95.818644 93.250328 \nL 95.818644 22.318125 \n\" style=\"fill:none;stroke:#000000;stroke-linecap:square;stroke-linejoin:miter;stroke-width:0.8;\"/>\n   </g>\n   <g id=\"patch_9\">\n    <path d=\"M 166.750847 93.250328 \nL 166.750847 22.318125 \n\" style=\"fill:none;stroke:#000000;stroke-linecap:square;stroke-linejoin:miter;stroke-width:0.8;\"/>\n   </g>\n   <g id=\"patch_10\">\n    <path d=\"M 95.818644 93.250328 \nL 166.750847 93.250328 \n\" style=\"fill:none;stroke:#000000;stroke-linecap:square;stroke-linejoin:miter;stroke-width:0.8;\"/>\n   </g>\n   <g id=\"patch_11\">\n    <path d=\"M 95.818644 22.318125 \nL 166.750847 22.318125 \n\" style=\"fill:none;stroke:#000000;stroke-linecap:square;stroke-linejoin:miter;stroke-width:0.8;\"/>\n   </g>\n   <g id=\"text_2\">\n    <!-- t-shirt -->\n    <defs>\n     <path d=\"M 4.890625 31.390625 \nL 31.203125 31.390625 \nL 31.203125 23.390625 \nL 4.890625 23.390625 \nz\n\" id=\"DejaVuSans-45\"/>\n     <path d=\"M 44.28125 53.078125 \nL 44.28125 44.578125 \nQ 40.484375 46.53125 36.375 47.5 \nQ 32.28125 48.484375 27.875 48.484375 \nQ 21.1875 48.484375 17.84375 46.4375 \nQ 14.5 44.390625 14.5 40.28125 \nQ 14.5 37.15625 16.890625 35.375 \nQ 19.28125 33.59375 26.515625 31.984375 \nL 29.59375 31.296875 \nQ 39.15625 29.25 43.1875 25.515625 \nQ 47.21875 21.78125 47.21875 15.09375 \nQ 47.21875 7.46875 41.1875 3.015625 \nQ 35.15625 -1.421875 24.609375 -1.421875 \nQ 20.21875 -1.421875 15.453125 -0.5625 \nQ 10.6875 0.296875 5.421875 2 \nL 5.421875 11.28125 \nQ 10.40625 8.6875 15.234375 7.390625 \nQ 20.0625 6.109375 24.8125 6.109375 \nQ 31.15625 6.109375 34.5625 8.28125 \nQ 37.984375 10.453125 37.984375 14.40625 \nQ 37.984375 18.0625 35.515625 20.015625 \nQ 33.0625 21.96875 24.703125 23.78125 \nL 21.578125 24.515625 \nQ 13.234375 26.265625 9.515625 29.90625 \nQ 5.8125 33.546875 5.8125 39.890625 \nQ 5.8125 47.609375 11.28125 51.796875 \nQ 16.75 56 26.8125 56 \nQ 31.78125 56 36.171875 55.265625 \nQ 40.578125 54.546875 44.28125 53.078125 \nz\n\" id=\"DejaVuSans-115\"/>\n     <path d=\"M 54.890625 33.015625 \nL 54.890625 0 \nL 45.90625 0 \nL 45.90625 32.71875 \nQ 45.90625 40.484375 42.875 44.328125 \nQ 39.84375 48.1875 33.796875 48.1875 \nQ 26.515625 48.1875 22.3125 43.546875 \nQ 18.109375 38.921875 18.109375 30.90625 \nL 18.109375 0 \nL 9.078125 0 \nL 9.078125 75.984375 \nL 18.109375 75.984375 \nL 18.109375 46.1875 \nQ 21.34375 51.125 25.703125 53.5625 \nQ 30.078125 56 35.796875 56 \nQ 45.21875 56 50.046875 50.171875 \nQ 54.890625 44.34375 54.890625 33.015625 \nz\n\" id=\"DejaVuSans-104\"/>\n     <path d=\"M 9.421875 54.6875 \nL 18.40625 54.6875 \nL 18.40625 0 \nL 9.421875 0 \nz\nM 9.421875 75.984375 \nL 18.40625 75.984375 \nL 18.40625 64.59375 \nL 9.421875 64.59375 \nz\n\" id=\"DejaVuSans-105\"/>\n     <path d=\"M 41.109375 46.296875 \nQ 39.59375 47.171875 37.8125 47.578125 \nQ 36.03125 48 33.890625 48 \nQ 26.265625 48 22.1875 43.046875 \nQ 18.109375 38.09375 18.109375 28.8125 \nL 18.109375 0 \nL 9.078125 0 \nL 9.078125 54.6875 \nL 18.109375 54.6875 \nL 18.109375 46.1875 \nQ 20.953125 51.171875 25.484375 53.578125 \nQ 30.03125 56 36.53125 56 \nQ 37.453125 56 38.578125 55.875 \nQ 39.703125 55.765625 41.0625 55.515625 \nz\n\" id=\"DejaVuSans-114\"/>\n    </defs>\n    <g transform=\"translate(113.354121 16.318125)scale(0.12 -0.12)\">\n     <use xlink:href=\"#DejaVuSans-116\"/>\n     <use x=\"39.208984\" xlink:href=\"#DejaVuSans-45\"/>\n     <use x=\"75.292969\" xlink:href=\"#DejaVuSans-115\"/>\n     <use x=\"127.392578\" xlink:href=\"#DejaVuSans-104\"/>\n     <use x=\"190.771484\" xlink:href=\"#DejaVuSans-105\"/>\n     <use x=\"218.554688\" xlink:href=\"#DejaVuSans-114\"/>\n     <use x=\"259.667969\" xlink:href=\"#DejaVuSans-116\"/>\n    </g>\n   </g>\n  </g>\n  <g id=\"axes_3\">\n   <g id=\"patch_12\">\n    <path d=\"M 180.937288 93.250328 \nL 251.869492 93.250328 \nL 251.869492 22.318125 \nL 180.937288 22.318125 \nz\n\" style=\"fill:#ffffff;\"/>\n   </g>\n   <g clip-path=\"url(#p6125757b41)\">\n    <image height=\"71\" id=\"image9103698a51\" transform=\"scale(1 -1)translate(0 -71)\" width=\"71\" x=\"180.937288\" xlink:href=\"data:image/png;base64,\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\" y=\"-22.250328\"/>\n   </g>\n   <g id=\"patch_13\">\n    <path d=\"M 180.937288 93.250328 \nL 180.937288 22.318125 \n\" style=\"fill:none;stroke:#000000;stroke-linecap:square;stroke-linejoin:miter;stroke-width:0.8;\"/>\n   </g>\n   <g id=\"patch_14\">\n    <path d=\"M 251.869492 93.250328 \nL 251.869492 22.318125 \n\" style=\"fill:none;stroke:#000000;stroke-linecap:square;stroke-linejoin:miter;stroke-width:0.8;\"/>\n   </g>\n   <g id=\"patch_15\">\n    <path d=\"M 180.937288 93.250328 \nL 251.869492 93.250328 \n\" style=\"fill:none;stroke:#000000;stroke-linecap:square;stroke-linejoin:miter;stroke-width:0.8;\"/>\n   </g>\n   <g id=\"patch_16\">\n    <path d=\"M 180.937288 22.318125 \nL 251.869492 22.318125 \n\" style=\"fill:none;stroke:#000000;stroke-linecap:square;stroke-linejoin:miter;stroke-width:0.8;\"/>\n   </g>\n   <g id=\"text_3\">\n    <!-- t-shirt -->\n    <g transform=\"translate(198.472765 16.318125)scale(0.12 -0.12)\">\n     <use xlink:href=\"#DejaVuSans-116\"/>\n     <use x=\"39.208984\" xlink:href=\"#DejaVuSans-45\"/>\n     <use x=\"75.292969\" xlink:href=\"#DejaVuSans-115\"/>\n     <use x=\"127.392578\" xlink:href=\"#DejaVuSans-104\"/>\n     <use x=\"190.771484\" xlink:href=\"#DejaVuSans-105\"/>\n     <use x=\"218.554688\" xlink:href=\"#DejaVuSans-114\"/>\n     <use x=\"259.667969\" xlink:href=\"#DejaVuSans-116\"/>\n    </g>\n   </g>\n  </g>\n  <g id=\"axes_4\">\n   <g id=\"patch_17\">\n    <path d=\"M 266.055932 93.250328 \nL 336.988136 93.250328 \nL 336.988136 22.318125 \nL 266.055932 22.318125 \nz\n\" style=\"fill:#ffffff;\"/>\n   </g>\n   <g clip-path=\"url(#p89c71722ea)\">\n    <image height=\"71\" id=\"image3abdf63596\" transform=\"scale(1 -1)translate(0 -71)\" width=\"71\" x=\"266.055932\" xlink:href=\"data:image/png;base64,\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\" y=\"-22.250328\"/>\n   </g>\n   <g id=\"patch_18\">\n    <path d=\"M 266.055932 93.250328 \nL 266.055932 22.318125 \n\" style=\"fill:none;stroke:#000000;stroke-linecap:square;stroke-linejoin:miter;stroke-width:0.8;\"/>\n   </g>\n   <g id=\"patch_19\">\n    <path d=\"M 336.988136 93.250328 \nL 336.988136 22.318125 \n\" style=\"fill:none;stroke:#000000;stroke-linecap:square;stroke-linejoin:miter;stroke-width:0.8;\"/>\n   </g>\n   <g id=\"patch_20\">\n    <path d=\"M 266.055932 93.250328 \nL 336.988136 93.250328 \n\" style=\"fill:none;stroke:#000000;stroke-linecap:square;stroke-linejoin:miter;stroke-width:0.8;\"/>\n   </g>\n   <g id=\"patch_21\">\n    <path d=\"M 266.055932 22.318125 \nL 336.988136 22.318125 \n\" style=\"fill:none;stroke:#000000;stroke-linecap:square;stroke-linejoin:miter;stroke-width:0.8;\"/>\n   </g>\n   <g id=\"text_4\">\n    <!-- dress -->\n    <defs>\n     <path d=\"M 45.40625 46.390625 \nL 45.40625 75.984375 \nL 54.390625 75.984375 \nL 54.390625 0 \nL 45.40625 0 \nL 45.40625 8.203125 \nQ 42.578125 3.328125 38.25 0.953125 \nQ 33.9375 -1.421875 27.875 -1.421875 \nQ 17.96875 -1.421875 11.734375 6.484375 \nQ 5.515625 14.40625 5.515625 27.296875 \nQ 5.515625 40.1875 11.734375 48.09375 \nQ 17.96875 56 27.875 56 \nQ 33.9375 56 38.25 53.625 \nQ 42.578125 51.265625 45.40625 46.390625 \nz\nM 14.796875 27.296875 \nQ 14.796875 17.390625 18.875 11.75 \nQ 22.953125 6.109375 30.078125 6.109375 \nQ 37.203125 6.109375 41.296875 11.75 \nQ 45.40625 17.390625 45.40625 27.296875 \nQ 45.40625 37.203125 41.296875 42.84375 \nQ 37.203125 48.484375 30.078125 48.484375 \nQ 22.953125 48.484375 18.875 42.84375 \nQ 14.796875 37.203125 14.796875 27.296875 \nz\n\" id=\"DejaVuSans-100\"/>\n    </defs>\n    <g transform=\"translate(285.438284 16.318125)scale(0.12 -0.12)\">\n     <use xlink:href=\"#DejaVuSans-100\"/>\n     <use x=\"63.476562\" xlink:href=\"#DejaVuSans-114\"/>\n     <use x=\"102.339844\" xlink:href=\"#DejaVuSans-101\"/>\n     <use x=\"163.863281\" xlink:href=\"#DejaVuSans-115\"/>\n     <use x=\"215.962891\" xlink:href=\"#DejaVuSans-115\"/>\n    </g>\n   </g>\n  </g>\n  <g id=\"axes_5\">\n   <g id=\"patch_22\">\n    <path d=\"M 351.174576 93.250328 \nL 422.10678 93.250328 \nL 422.10678 22.318125 \nL 351.174576 22.318125 \nz\n\" style=\"fill:#ffffff;\"/>\n   </g>\n   <g clip-path=\"url(#pe019f398eb)\">\n    <image height=\"71\" id=\"image9032b67e16\" transform=\"scale(1 -1)translate(0 -71)\" width=\"71\" x=\"351.174576\" xlink:href=\"data:image/png;base64,\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\" y=\"-22.250328\"/>\n   </g>\n   <g id=\"patch_23\">\n    <path d=\"M 351.174576 93.250328 \nL 351.174576 22.318125 \n\" style=\"fill:none;stroke:#000000;stroke-linecap:square;stroke-linejoin:miter;stroke-width:0.8;\"/>\n   </g>\n   <g id=\"patch_24\">\n    <path d=\"M 422.10678 93.250328 \nL 422.10678 22.318125 \n\" style=\"fill:none;stroke:#000000;stroke-linecap:square;stroke-linejoin:miter;stroke-width:0.8;\"/>\n   </g>\n   <g id=\"patch_25\">\n    <path d=\"M 351.174576 93.250328 \nL 422.10678 93.250328 \n\" style=\"fill:none;stroke:#000000;stroke-linecap:square;stroke-linejoin:miter;stroke-width:0.8;\"/>\n   </g>\n   <g id=\"patch_26\">\n    <path d=\"M 351.174576 22.318125 \nL 422.10678 22.318125 \n\" style=\"fill:none;stroke:#000000;stroke-linecap:square;stroke-linejoin:miter;stroke-width:0.8;\"/>\n   </g>\n   <g id=\"text_5\">\n    <!-- t-shirt -->\n    <g transform=\"translate(368.710053 16.318125)scale(0.12 -0.12)\">\n     <use xlink:href=\"#DejaVuSans-116\"/>\n     <use x=\"39.208984\" xlink:href=\"#DejaVuSans-45\"/>\n     <use x=\"75.292969\" xlink:href=\"#DejaVuSans-115\"/>\n     <use x=\"127.392578\" xlink:href=\"#DejaVuSans-104\"/>\n     <use x=\"190.771484\" xlink:href=\"#DejaVuSans-105\"/>\n     <use x=\"218.554688\" xlink:href=\"#DejaVuSans-114\"/>\n     <use x=\"259.667969\" xlink:href=\"#DejaVuSans-116\"/>\n    </g>\n   </g>\n  </g>\n  <g id=\"axes_6\">\n   <g id=\"patch_27\">\n    <path d=\"M 436.29322 93.250328 \nL 507.225424 93.250328 \nL 507.225424 22.318125 \nL 436.29322 22.318125 \nz\n\" style=\"fill:#ffffff;\"/>\n   </g>\n   <g clip-path=\"url(#p1a77fa758d)\">\n    <image height=\"71\" id=\"image9c5628e77a\" transform=\"scale(1 -1)translate(0 -71)\" width=\"71\" x=\"436.29322\" xlink:href=\"data:image/png;base64,\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\" y=\"-22.250328\"/>\n   </g>\n   <g id=\"patch_28\">\n    <path d=\"M 436.29322 93.250328 \nL 436.29322 22.318125 \n\" style=\"fill:none;stroke:#000000;stroke-linecap:square;stroke-linejoin:miter;stroke-width:0.8;\"/>\n   </g>\n   <g id=\"patch_29\">\n    <path d=\"M 507.225424 93.250328 \nL 507.225424 22.318125 \n\" style=\"fill:none;stroke:#000000;stroke-linecap:square;stroke-linejoin:miter;stroke-width:0.8;\"/>\n   </g>\n   <g id=\"patch_30\">\n    <path d=\"M 436.29322 93.250328 \nL 507.225424 93.250328 \n\" style=\"fill:none;stroke:#000000;stroke-linecap:square;stroke-linejoin:miter;stroke-width:0.8;\"/>\n   </g>\n   <g id=\"patch_31\">\n    <path d=\"M 436.29322 22.318125 \nL 507.225424 22.318125 \n\" style=\"fill:none;stroke:#000000;stroke-linecap:square;stroke-linejoin:miter;stroke-width:0.8;\"/>\n   </g>\n   <g id=\"text_6\">\n    <!-- pullover -->\n    <defs>\n     <path d=\"M 18.109375 8.203125 \nL 18.109375 -20.796875 \nL 9.078125 -20.796875 \nL 9.078125 54.6875 \nL 18.109375 54.6875 \nL 18.109375 46.390625 \nQ 20.953125 51.265625 25.265625 53.625 \nQ 29.59375 56 35.59375 56 \nQ 45.5625 56 51.78125 48.09375 \nQ 58.015625 40.1875 58.015625 27.296875 \nQ 58.015625 14.40625 51.78125 6.484375 \nQ 45.5625 -1.421875 35.59375 -1.421875 \nQ 29.59375 -1.421875 25.265625 0.953125 \nQ 20.953125 3.328125 18.109375 8.203125 \nz\nM 48.6875 27.296875 \nQ 48.6875 37.203125 44.609375 42.84375 \nQ 40.53125 48.484375 33.40625 48.484375 \nQ 26.265625 48.484375 22.1875 42.84375 \nQ 18.109375 37.203125 18.109375 27.296875 \nQ 18.109375 17.390625 22.1875 11.75 \nQ 26.265625 6.109375 33.40625 6.109375 \nQ 40.53125 6.109375 44.609375 11.75 \nQ 48.6875 17.390625 48.6875 27.296875 \nz\n\" id=\"DejaVuSans-112\"/>\n     <path d=\"M 8.5 21.578125 \nL 8.5 54.6875 \nL 17.484375 54.6875 \nL 17.484375 21.921875 \nQ 17.484375 14.15625 20.5 10.265625 \nQ 23.53125 6.390625 29.59375 6.390625 \nQ 36.859375 6.390625 41.078125 11.03125 \nQ 45.3125 15.671875 45.3125 23.6875 \nL 45.3125 54.6875 \nL 54.296875 54.6875 \nL 54.296875 0 \nL 45.3125 0 \nL 45.3125 8.40625 \nQ 42.046875 3.421875 37.71875 1 \nQ 33.40625 -1.421875 27.6875 -1.421875 \nQ 18.265625 -1.421875 13.375 4.4375 \nQ 8.5 10.296875 8.5 21.578125 \nz\nM 31.109375 56 \nz\n\" id=\"DejaVuSans-117\"/>\n     <path d=\"M 2.984375 54.6875 \nL 12.5 54.6875 \nL 29.59375 8.796875 \nL 46.6875 54.6875 \nL 56.203125 54.6875 \nL 35.6875 0 \nL 23.484375 0 \nz\n\" id=\"DejaVuSans-118\"/>\n    </defs>\n    <g transform=\"translate(447.433072 16.318125)scale(0.12 -0.12)\">\n     <use xlink:href=\"#DejaVuSans-112\"/>\n     <use x=\"63.476562\" xlink:href=\"#DejaVuSans-117\"/>\n     <use x=\"126.855469\" xlink:href=\"#DejaVuSans-108\"/>\n     <use x=\"154.638672\" xlink:href=\"#DejaVuSans-108\"/>\n     <use x=\"182.421875\" xlink:href=\"#DejaVuSans-111\"/>\n     <use x=\"243.603516\" xlink:href=\"#DejaVuSans-118\"/>\n     <use x=\"302.783203\" xlink:href=\"#DejaVuSans-101\"/>\n     <use x=\"364.306641\" xlink:href=\"#DejaVuSans-114\"/>\n    </g>\n   </g>\n  </g>\n  <g id=\"axes_7\">\n   <g id=\"patch_32\">\n    <path d=\"M 521.411864 93.250328 \nL 592.344068 93.250328 \nL 592.344068 22.318125 \nL 521.411864 22.318125 \nz\n\" style=\"fill:#ffffff;\"/>\n   </g>\n   <g clip-path=\"url(#p8b1104d7cc)\">\n    <image height=\"71\" id=\"image8d3bfbe6cb\" transform=\"scale(1 -1)translate(0 -71)\" width=\"71\" x=\"521.411864\" xlink:href=\"data:image/png;base64,\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\" y=\"-22.250328\"/>\n   </g>\n   <g id=\"patch_33\">\n    <path d=\"M 521.411864 93.250328 \nL 521.411864 22.318125 \n\" style=\"fill:none;stroke:#000000;stroke-linecap:square;stroke-linejoin:miter;stroke-width:0.8;\"/>\n   </g>\n   <g id=\"patch_34\">\n    <path d=\"M 592.344068 93.250328 \nL 592.344068 22.318125 \n\" style=\"fill:none;stroke:#000000;stroke-linecap:square;stroke-linejoin:miter;stroke-width:0.8;\"/>\n   </g>\n   <g id=\"patch_35\">\n    <path d=\"M 521.411864 93.250328 \nL 592.344068 93.250328 \n\" style=\"fill:none;stroke:#000000;stroke-linecap:square;stroke-linejoin:miter;stroke-width:0.8;\"/>\n   </g>\n   <g id=\"patch_36\">\n    <path d=\"M 521.411864 22.318125 \nL 592.344068 22.318125 \n\" style=\"fill:none;stroke:#000000;stroke-linecap:square;stroke-linejoin:miter;stroke-width:0.8;\"/>\n   </g>\n   <g id=\"text_7\">\n    <!-- sneaker -->\n    <g transform=\"translate(533.165779 16.318125)scale(0.12 -0.12)\">\n     <use xlink:href=\"#DejaVuSans-115\"/>\n     <use x=\"52.099609\" xlink:href=\"#DejaVuSans-110\"/>\n     <use x=\"115.478516\" xlink:href=\"#DejaVuSans-101\"/>\n     <use x=\"177.001953\" xlink:href=\"#DejaVuSans-97\"/>\n     <use x=\"238.28125\" xlink:href=\"#DejaVuSans-107\"/>\n     <use x=\"292.566406\" xlink:href=\"#DejaVuSans-101\"/>\n     <use x=\"354.089844\" xlink:href=\"#DejaVuSans-114\"/>\n    </g>\n   </g>\n  </g>\n  <g id=\"axes_8\">\n   <g id=\"patch_37\">\n    <path d=\"M 606.530508 93.250328 \nL 677.462712 93.250328 \nL 677.462712 22.318125 \nL 606.530508 22.318125 \nz\n\" style=\"fill:#ffffff;\"/>\n   </g>\n   <g clip-path=\"url(#p4d6e5d73e5)\">\n    <image height=\"71\" id=\"image840c6b02a9\" transform=\"scale(1 -1)translate(0 -71)\" width=\"71\" x=\"606.530508\" xlink:href=\"data:image/png;base64,\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\" y=\"-22.250328\"/>\n   </g>\n   <g id=\"patch_38\">\n    <path d=\"M 606.530508 93.250328 \nL 606.530508 22.318125 \n\" style=\"fill:none;stroke:#000000;stroke-linecap:square;stroke-linejoin:miter;stroke-width:0.8;\"/>\n   </g>\n   <g id=\"patch_39\">\n    <path d=\"M 677.462712 93.250328 \nL 677.462712 22.318125 \n\" style=\"fill:none;stroke:#000000;stroke-linecap:square;stroke-linejoin:miter;stroke-width:0.8;\"/>\n   </g>\n   <g id=\"patch_40\">\n    <path d=\"M 606.530508 93.250328 \nL 677.462712 93.250328 \n\" style=\"fill:none;stroke:#000000;stroke-linecap:square;stroke-linejoin:miter;stroke-width:0.8;\"/>\n   </g>\n   <g id=\"patch_41\">\n    <path d=\"M 606.530508 22.318125 \nL 677.462712 22.318125 \n\" style=\"fill:none;stroke:#000000;stroke-linecap:square;stroke-linejoin:miter;stroke-width:0.8;\"/>\n   </g>\n   <g id=\"text_8\">\n    <!-- pullover -->\n    <g transform=\"translate(617.67036 16.318125)scale(0.12 -0.12)\">\n     <use xlink:href=\"#DejaVuSans-112\"/>\n     <use x=\"63.476562\" xlink:href=\"#DejaVuSans-117\"/>\n     <use x=\"126.855469\" xlink:href=\"#DejaVuSans-108\"/>\n     <use x=\"154.638672\" xlink:href=\"#DejaVuSans-108\"/>\n     <use x=\"182.421875\" xlink:href=\"#DejaVuSans-111\"/>\n     <use x=\"243.603516\" xlink:href=\"#DejaVuSans-118\"/>\n     <use x=\"302.783203\" xlink:href=\"#DejaVuSans-101\"/>\n     <use x=\"364.306641\" xlink:href=\"#DejaVuSans-114\"/>\n    </g>\n   </g>\n  </g>\n  <g id=\"axes_9\">\n   <g id=\"patch_42\">\n    <path d=\"M 691.649153 93.250328 \nL 762.581356 93.250328 \nL 762.581356 22.318125 \nL 691.649153 22.318125 \nz\n\" style=\"fill:#ffffff;\"/>\n   </g>\n   <g clip-path=\"url(#p384d6ea0b9)\">\n    <image height=\"71\" id=\"imagef3510fbc8a\" transform=\"scale(1 -1)translate(0 -71)\" width=\"71\" x=\"691.649153\" xlink:href=\"data:image/png;base64,\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\" y=\"-22.250328\"/>\n   </g>\n   <g id=\"patch_43\">\n    <path d=\"M 691.649153 93.250328 \nL 691.649153 22.318125 \n\" style=\"fill:none;stroke:#000000;stroke-linecap:square;stroke-linejoin:miter;stroke-width:0.8;\"/>\n   </g>\n   <g id=\"patch_44\">\n    <path d=\"M 762.581356 93.250328 \nL 762.581356 22.318125 \n\" style=\"fill:none;stroke:#000000;stroke-linecap:square;stroke-linejoin:miter;stroke-width:0.8;\"/>\n   </g>\n   <g id=\"patch_45\">\n    <path d=\"M 691.649153 93.250328 \nL 762.581356 93.250328 \n\" style=\"fill:none;stroke:#000000;stroke-linecap:square;stroke-linejoin:miter;stroke-width:0.8;\"/>\n   </g>\n   <g id=\"patch_46\">\n    <path d=\"M 691.649153 22.318125 \nL 762.581356 22.318125 \n\" style=\"fill:none;stroke:#000000;stroke-linecap:square;stroke-linejoin:miter;stroke-width:0.8;\"/>\n   </g>\n   <g id=\"text_9\">\n    <!-- sandal -->\n    <g transform=\"translate(707.357442 16.318125)scale(0.12 -0.12)\">\n     <use xlink:href=\"#DejaVuSans-115\"/>\n     <use x=\"52.099609\" xlink:href=\"#DejaVuSans-97\"/>\n     <use x=\"113.378906\" xlink:href=\"#DejaVuSans-110\"/>\n     <use x=\"176.757812\" xlink:href=\"#DejaVuSans-100\"/>\n     <use x=\"240.234375\" xlink:href=\"#DejaVuSans-97\"/>\n     <use x=\"301.513672\" xlink:href=\"#DejaVuSans-108\"/>\n    </g>\n   </g>\n  </g>\n  <g id=\"axes_10\">\n   <g id=\"patch_47\">\n    <path d=\"M 776.767797 93.250328 \nL 847.7 93.250328 \nL 847.7 22.318125 \nL 776.767797 22.318125 \nz\n\" style=\"fill:#ffffff;\"/>\n   </g>\n   <g clip-path=\"url(#pc80abe679d)\">\n    <image height=\"71\" id=\"image832d72a91f\" transform=\"scale(1 -1)translate(0 -71)\" width=\"71\" x=\"776.767797\" xlink:href=\"data:image/png;base64,\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\" y=\"-22.250328\"/>\n   </g>\n   <g id=\"patch_48\">\n    <path d=\"M 776.767797 93.250328 \nL 776.767797 22.318125 \n\" style=\"fill:none;stroke:#000000;stroke-linecap:square;stroke-linejoin:miter;stroke-width:0.8;\"/>\n   </g>\n   <g id=\"patch_49\">\n    <path d=\"M 847.7 93.250328 \nL 847.7 22.318125 \n\" style=\"fill:none;stroke:#000000;stroke-linecap:square;stroke-linejoin:miter;stroke-width:0.8;\"/>\n   </g>\n   <g id=\"patch_50\">\n    <path d=\"M 776.767797 93.250328 \nL 847.7 93.250328 \n\" style=\"fill:none;stroke:#000000;stroke-linecap:square;stroke-linejoin:miter;stroke-width:0.8;\"/>\n   </g>\n   <g id=\"patch_51\">\n    <path d=\"M 776.767797 22.318125 \nL 847.7 22.318125 \n\" style=\"fill:none;stroke:#000000;stroke-linecap:square;stroke-linejoin:miter;stroke-width:0.8;\"/>\n   </g>\n   <g id=\"text_10\">\n    <!-- sandal -->\n    <g transform=\"translate(792.476086 16.318125)scale(0.12 -0.12)\">\n     <use xlink:href=\"#DejaVuSans-115\"/>\n     <use x=\"52.099609\" xlink:href=\"#DejaVuSans-97\"/>\n     <use x=\"113.378906\" xlink:href=\"#DejaVuSans-110\"/>\n     <use x=\"176.757812\" xlink:href=\"#DejaVuSans-100\"/>\n     <use x=\"240.234375\" xlink:href=\"#DejaVuSans-97\"/>\n     <use x=\"301.513672\" xlink:href=\"#DejaVuSans-108\"/>\n    </g>\n   </g>\n  </g>\n  <g id=\"axes_11\">\n   <g id=\"patch_52\">\n    <path d=\"M 10.7 182.203056 \nL 81.632203 182.203056 \nL 81.632203 111.270852 \nL 10.7 111.270852 \nz\n\" style=\"fill:#ffffff;\"/>\n   </g>\n   <g clip-path=\"url(#pe7e4a06ae1)\">\n    <image height=\"71\" id=\"imageba358bead2\" transform=\"scale(1 -1)translate(0 -71)\" width=\"71\" x=\"10.7\" xlink:href=\"data:image/png;base64,\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\" y=\"-111.203056\"/>\n   </g>\n   <g id=\"patch_53\">\n    <path d=\"M 10.7 182.203056 \nL 10.7 111.270852 \n\" style=\"fill:none;stroke:#000000;stroke-linecap:square;stroke-linejoin:miter;stroke-width:0.8;\"/>\n   </g>\n   <g id=\"patch_54\">\n    <path d=\"M 81.632203 182.203056 \nL 81.632203 111.270852 \n\" style=\"fill:none;stroke:#000000;stroke-linecap:square;stroke-linejoin:miter;stroke-width:0.8;\"/>\n   </g>\n   <g id=\"patch_55\">\n    <path d=\"M 10.7 182.203056 \nL 81.632203 182.203056 \n\" style=\"fill:none;stroke:#000000;stroke-linecap:square;stroke-linejoin:miter;stroke-width:0.8;\"/>\n   </g>\n   <g id=\"patch_56\">\n    <path d=\"M 10.7 111.270852 \nL 81.632203 111.270852 \n\" style=\"fill:none;stroke:#000000;stroke-linecap:square;stroke-linejoin:miter;stroke-width:0.8;\"/>\n   </g>\n   <g id=\"text_11\">\n    <!-- t-shirt -->\n    <g transform=\"translate(28.235477 105.270852)scale(0.12 -0.12)\">\n     <use xlink:href=\"#DejaVuSans-116\"/>\n     <use x=\"39.208984\" xlink:href=\"#DejaVuSans-45\"/>\n     <use x=\"75.292969\" xlink:href=\"#DejaVuSans-115\"/>\n     <use x=\"127.392578\" xlink:href=\"#DejaVuSans-104\"/>\n     <use x=\"190.771484\" xlink:href=\"#DejaVuSans-105\"/>\n     <use x=\"218.554688\" xlink:href=\"#DejaVuSans-114\"/>\n     <use x=\"259.667969\" xlink:href=\"#DejaVuSans-116\"/>\n    </g>\n   </g>\n  </g>\n  <g id=\"axes_12\">\n   <g id=\"patch_57\">\n    <path d=\"M 95.818644 182.203056 \nL 166.750847 182.203056 \nL 166.750847 111.270852 \nL 95.818644 111.270852 \nz\n\" style=\"fill:#ffffff;\"/>\n   </g>\n   <g clip-path=\"url(#p2835d6a587)\">\n    <image height=\"71\" id=\"image84c6e5602d\" transform=\"scale(1 -1)translate(0 -71)\" width=\"71\" x=\"95.818644\" xlink:href=\"data:image/png;base64,\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\" y=\"-111.203056\"/>\n   </g>\n   <g id=\"patch_58\">\n    <path d=\"M 95.818644 182.203056 \nL 95.818644 111.270852 \n\" style=\"fill:none;stroke:#000000;stroke-linecap:square;stroke-linejoin:miter;stroke-width:0.8;\"/>\n   </g>\n   <g id=\"patch_59\">\n    <path d=\"M 166.750847 182.203056 \nL 166.750847 111.270852 \n\" style=\"fill:none;stroke:#000000;stroke-linecap:square;stroke-linejoin:miter;stroke-width:0.8;\"/>\n   </g>\n   <g id=\"patch_60\">\n    <path d=\"M 95.818644 182.203056 \nL 166.750847 182.203056 \n\" style=\"fill:none;stroke:#000000;stroke-linecap:square;stroke-linejoin:miter;stroke-width:0.8;\"/>\n   </g>\n   <g id=\"patch_61\">\n    <path d=\"M 95.818644 111.270852 \nL 166.750847 111.270852 \n\" style=\"fill:none;stroke:#000000;stroke-linecap:square;stroke-linejoin:miter;stroke-width:0.8;\"/>\n   </g>\n   <g id=\"text_12\">\n    <!-- ankle boot -->\n    <g transform=\"translate(99.561621 105.270852)scale(0.12 -0.12)\">\n     <use xlink:href=\"#DejaVuSans-97\"/>\n     <use x=\"61.279297\" xlink:href=\"#DejaVuSans-110\"/>\n     <use x=\"124.658203\" xlink:href=\"#DejaVuSans-107\"/>\n     <use x=\"182.568359\" xlink:href=\"#DejaVuSans-108\"/>\n     <use x=\"210.351562\" xlink:href=\"#DejaVuSans-101\"/>\n     <use x=\"271.875\" xlink:href=\"#DejaVuSans-32\"/>\n     <use x=\"303.662109\" xlink:href=\"#DejaVuSans-98\"/>\n     <use x=\"367.138672\" xlink:href=\"#DejaVuSans-111\"/>\n     <use x=\"428.320312\" xlink:href=\"#DejaVuSans-111\"/>\n     <use x=\"489.501953\" xlink:href=\"#DejaVuSans-116\"/>\n    </g>\n   </g>\n  </g>\n  <g id=\"axes_13\">\n   <g id=\"patch_62\">\n    <path d=\"M 180.937288 182.203056 \nL 251.869492 182.203056 \nL 251.869492 111.270852 \nL 180.937288 111.270852 \nz\n\" style=\"fill:#ffffff;\"/>\n   </g>\n   <g clip-path=\"url(#p50e7985e43)\">\n    <image height=\"71\" id=\"image1c606dff81\" transform=\"scale(1 -1)translate(0 -71)\" width=\"71\" x=\"180.937288\" xlink:href=\"data:image/png;base64,\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\" y=\"-111.203056\"/>\n   </g>\n   <g id=\"patch_63\">\n    <path d=\"M 180.937288 182.203056 \nL 180.937288 111.270852 \n\" style=\"fill:none;stroke:#000000;stroke-linecap:square;stroke-linejoin:miter;stroke-width:0.8;\"/>\n   </g>\n   <g id=\"patch_64\">\n    <path d=\"M 251.869492 182.203056 \nL 251.869492 111.270852 \n\" style=\"fill:none;stroke:#000000;stroke-linecap:square;stroke-linejoin:miter;stroke-width:0.8;\"/>\n   </g>\n   <g id=\"patch_65\">\n    <path d=\"M 180.937288 182.203056 \nL 251.869492 182.203056 \n\" style=\"fill:none;stroke:#000000;stroke-linecap:square;stroke-linejoin:miter;stroke-width:0.8;\"/>\n   </g>\n   <g id=\"patch_66\">\n    <path d=\"M 180.937288 111.270852 \nL 251.869492 111.270852 \n\" style=\"fill:none;stroke:#000000;stroke-linecap:square;stroke-linejoin:miter;stroke-width:0.8;\"/>\n   </g>\n   <g id=\"text_13\">\n    <!-- sandal -->\n    <g transform=\"translate(196.645577 105.270852)scale(0.12 -0.12)\">\n     <use xlink:href=\"#DejaVuSans-115\"/>\n     <use x=\"52.099609\" xlink:href=\"#DejaVuSans-97\"/>\n     <use x=\"113.378906\" xlink:href=\"#DejaVuSans-110\"/>\n     <use x=\"176.757812\" xlink:href=\"#DejaVuSans-100\"/>\n     <use x=\"240.234375\" xlink:href=\"#DejaVuSans-97\"/>\n     <use x=\"301.513672\" xlink:href=\"#DejaVuSans-108\"/>\n    </g>\n   </g>\n  </g>\n  <g id=\"axes_14\">\n   <g id=\"patch_67\">\n    <path d=\"M 266.055932 182.203056 \nL 336.988136 182.203056 \nL 336.988136 111.270852 \nL 266.055932 111.270852 \nz\n\" style=\"fill:#ffffff;\"/>\n   </g>\n   <g clip-path=\"url(#pab51cd9f28)\">\n    <image height=\"71\" id=\"image9d0bab1fad\" transform=\"scale(1 -1)translate(0 -71)\" width=\"71\" x=\"266.055932\" xlink:href=\"data:image/png;base64,\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\" y=\"-111.203056\"/>\n   </g>\n   <g id=\"patch_68\">\n    <path d=\"M 266.055932 182.203056 \nL 266.055932 111.270852 \n\" style=\"fill:none;stroke:#000000;stroke-linecap:square;stroke-linejoin:miter;stroke-width:0.8;\"/>\n   </g>\n   <g id=\"patch_69\">\n    <path d=\"M 336.988136 182.203056 \nL 336.988136 111.270852 \n\" style=\"fill:none;stroke:#000000;stroke-linecap:square;stroke-linejoin:miter;stroke-width:0.8;\"/>\n   </g>\n   <g id=\"patch_70\">\n    <path d=\"M 266.055932 182.203056 \nL 336.988136 182.203056 \n\" style=\"fill:none;stroke:#000000;stroke-linecap:square;stroke-linejoin:miter;stroke-width:0.8;\"/>\n   </g>\n   <g id=\"patch_71\">\n    <path d=\"M 266.055932 111.270852 \nL 336.988136 111.270852 \n\" style=\"fill:none;stroke:#000000;stroke-linecap:square;stroke-linejoin:miter;stroke-width:0.8;\"/>\n   </g>\n   <g id=\"text_14\">\n    <!-- sandal -->\n    <g transform=\"translate(281.764221 105.270852)scale(0.12 -0.12)\">\n     <use xlink:href=\"#DejaVuSans-115\"/>\n     <use x=\"52.099609\" xlink:href=\"#DejaVuSans-97\"/>\n     <use x=\"113.378906\" xlink:href=\"#DejaVuSans-110\"/>\n     <use x=\"176.757812\" xlink:href=\"#DejaVuSans-100\"/>\n     <use x=\"240.234375\" xlink:href=\"#DejaVuSans-97\"/>\n     <use x=\"301.513672\" xlink:href=\"#DejaVuSans-108\"/>\n    </g>\n   </g>\n  </g>\n  <g id=\"axes_15\">\n   <g id=\"patch_72\">\n    <path d=\"M 351.174576 182.203056 \nL 422.10678 182.203056 \nL 422.10678 111.270852 \nL 351.174576 111.270852 \nz\n\" style=\"fill:#ffffff;\"/>\n   </g>\n   <g clip-path=\"url(#p6ed534bb63)\">\n    <image height=\"71\" id=\"imagee87843b58b\" transform=\"scale(1 -1)translate(0 -71)\" width=\"71\" x=\"351.174576\" xlink:href=\"data:image/png;base64,\niVBORw0KGgoAAAANSUhEUgAAAEcAAABHCAYAAABVsFofAAAABHNCSVQICAgIfAhkiAAAC4BJREFUeJztmsmSJMdxhj+PiFyqqpeZafQIEA2LERBpoihQOsp0k+mgB9Ab6RV01GPoBWQ6QTjQqIUSSQMFajDCDGZ6ppdaMyPcdYiopWcaCZiJWA75m5VVdWVmRPgX7h4eUS1/LX9rjLpT7rsewPdZI5wBjXAGNMIZ0AhnQCOcAY1wBjTCGdAIZ0AjnAGNcAY0whnQCGdAI5wBjXAGNMIZ0AhnQCOcAY1wBjTCGdAIZ0Bh98l5xHtwkt9FyveFn+r+KTv4wULk9t93SSS3o5rvLW1ZeU62fX1duTvm9LAN53Kb7pV29ZVxbq+L2322roe+Bw7gSBVwkxZCQCYTCBmQlYdELRtmBkn3jW/hbK/fpeCx4JGk0MfSRsLMshF3wTkE8GXwDgFs2xHBggfvyvhzO2J3jE8EEwEH5n3udrFGFqsDOCJlkC6/vMNK4zgHZpjkxiXpHoocwEGBu42w4ME5DBB1Ga73yNYby8BeM3wHqnzezvyhRxxC2Y7Lu2ys20O2L4EDZIChTIZ3u2eCm82KBYYulxnSZlMAFHfbDsoUOxzkdqCv/u198aRifFUjwWOqWIy3r4nL3ur3nmJbTyx97j1TXw+NVwGWMe8m+1WwdzwngGw91WwX7kHaJn+3WmObTTZ+vb67oa8hCeE1OFL3EAKWUoazvbd4pgBmB2FUwg7A+rgLQevjHtY3JDedIk0DTgi4EmunJ7jzM/AenbYQHFZ5tPryBU20zKjbxq4Q2/KMGVJsUC+YL7mrGGZOMJffNbB38W3EHEboNpqSgZHbtVfuszwe0fLZyr3bdeQOoNvxmYAFAYP6siNcrsCMICUf9O89ZP52Sz8VFm8JcWbEmWFHEdwdM6UCvcupxgHeICjTkzUn0zVJHUnzyCuvBJdfbehxYrS+p/YJh9H47E1BFCdKJcq9aknrehrXM3UdAL151BwJodecLisX8RhLrbmKE3rzLGLDRj3rVLGMNWqCmmB2Oyd26knqmISe88kcNeGjf/kxDz+eIAkCdQUi9McVqzcc/Qw254rOEtVRx72TJU5eh5PUse4DMXq8VyqfqELivdMX/OHkiqieTTFg4jsaF2lc5NivqSQxdRta1+NQaskhVEnCi9JKz7m/YSqRmVOOJXtvwlAgmdGXcbQiOOBGjRda05vnWluW1rDWiss0pbdAQlC7HQVrrejNcxqW/FHzhN4CH52/Rz9pEYWw+JM3MSc8+/OA/NkVqg69aqBz9FcNz65rMEGigIJoeTeQKIhBMugse9DHJ/dhkiAJxDKYJuEqLYtf9vO4CdjG5bAIOVZEAGeIGD4o4oyqStQhImJlkTScGN4pAlQ+EZwS1dEnz+E0ejEqn3aTufWgrZoQaXzkpF7zfHacr33RcPS/EZeMcPXDCvWQfjrn7/70H/nvzUP+4d/+krRo8SshrARJ4DfgIkgC1x/EPiARfPZ8+iNPasP+PiBOAqnZD1oUTl4YzaWCCKkGk5yDkNt5RytIdclPAcyBhvJZwIJxyyGkXPeGNoZNU04LSXIqMHYduFlP3UYmTUeXcsi2zx2Tx5dIVMLkuaIelr+b8ff3/or5pkaftDSXDhczEKy8l2S3LQytGOKkJEIpiVayF2m1nyWXQD1oXSBOBYnuVlKMUyFOKYm6zH6XJybHE7t+VPK7WOlPyjNiOMBS7jt5l3NiSeJiAjFfUyrWnaefeJ43R3mcWzuBcP+fPgXgwc9PiPdPqSvHaZswn+injn7qMA+pAfN5ZUltMcDnl0TJBpBnVH25XhUDV9nANIPNecIqpbvn8SvBd0J1k42ev6tM372m9olJ3SPA40/f4ORX2RN3MbNbkbLXimZv0SZTdl35rhJclytg9eSQjfm6S4IkhyTojyo+6x0uGMfzvROG+PmT/OnzJ4gI1XRK/e4PSEcN7qQGAlrl6lMx8LKb2ey+eWK05CEtxa55SHW2xm2KOwtYpUibsn3eoRuH20g25jjy/oML2tBzWq3wYnz+/BT14c4FEzKE3XJdPFDKEi4RnBPMFW+y3I/rS6rowPXZ2/u1JwXDRdttNcKtnsywrkcuLgk3Nf6yoXlWY8Ghdcie03hS69AgxNahVa5jNORQSvXeu7TOkOLMSJM88OoigAuk2rDasGDEaU70YRI5axYEl5PoJgW8V+Is57o9EXahG48se7ADrSwn+DJR23u20LYxnCbbqjl/lSZK+2CNiGG+ynurpK/AAazvSE+/2O9tyjLqynYitA3StkhdYSczrKmIRzWbsxoNQj91JfkKcZbDLM4yCD93TJ8IEmH1ELpWIUBqBTBm0w1vtVeoCc+6Y1apwgelP7JbcMQyLPMQTxRr0w4aYog3cIapYNFlr90mY29Q5ZXQe8V5ZVpHzo8WJHVc+RNsvoAYX4dz6EX5vZTxJkCCLu9bTBMSPMREgOxdQfCdJ9WC6x0W8kqkZ4ZWSmqFfpZdWqutMXuDV6uaX16/STTP5XpClzx979FWQWVf/SYpy37+m1hcaTtkZ7skvcv4LnuVlFJBBNpJx0m7oQmR03rFOlVcCpAU6w/hHO6C79q7bMv+rkPLvkcWy7w3CoG6rkBc3kB6jx1N6c+P6I8rnvxFILyzRk+EzQOfZ7Tzxah9jrBHU/718fuICm6Tk6aeJfxZzvap83kVKi9Rwa0FWQRcBL+WW1uGODH6e4pVhkwjdduToiduPOKMDx4852/O/4ONVryIM552J3xWvYetVmjX748sbmnoAMtst3k83ES+Knd8TN1H/P0ZrjvFBcU5RdoeAxY3LTovy1lZZsNc8Jt9XSUK/czRtD0ixpoaTYJGB7icfKPLNdhGCKuSiNN2/yWkqaCleAxBUZUc6xhnzZIPm0dca8tv5E2WWud8FiNoKnC2ILaQfg+7Xus67PoG30fOfzHj6uoUraGb5cLNtWCtgkCalap5ehA6201rYywupgcNg7/21C8zlOlTo7lJpRDNRxqieeMZJ57u2KOVsHw4oT+ZkE6V6Ts33Jut+GD6Bceu41Kn/Gb1B/x2/gZ+te/qtdXq9yXbbEhdB+KYXrxg1jTI6THd22fEWeDljyrm70iuYmcRV+kuQXqvNFXeMrx4dkL9eYUJpDavTO1zx+kniWquzP7zKenzp3ee1wSgdYLUNffff5v1mzMuflLx1odXfHj/MX/cPuaBS3xinl9fP+TR5T0mS7v1/DcnM7CErjdIH3HeEa5nSKxpLgP9zJFa6KNgtRGPetpZQiTvhZwY4pU4sV0ekQR+DfWNUt302GKFbTbD40gJN19RXVU0LwOfPH2DRZ9LdcXx8+W7PLq8x/zllOOVYQW0fGv/3i+ChAo3m+Qj0pNjdDZBpxWb85Z+6rj4qUd+coOq0C1qiEJ1nE8GVl3F4rNjwo3jwS+Ns39+jC2W6M38q+GI5EOstkFOT+jevk9/FHj2s4rlBx1yEzj6naO+Mc5+MYeP//2OIvCblFmuoS7LDvXiBZBP3qY/eBM9mnDz9ikbFTQ5ZOWRTnD3lB/eu+BiPeMTOcb1Qlgp+vQZ+nVPLM3QxQIWC7h4gfvtp7RNwxvuZzy3mrCE488S1ULxLxdsS6pvD86XyPqIXM/xXc+D/5pyGY/KWYrhEsyfHfPRy/eRjePoU09zaUy+6LCkX934kFJi+mjOmT/Cr43m+QpZR7ie73LvtxdWQyqH4a6ukDrngu3PNvrjd7n80QyXYPqkI8w7/PNr4v88Bk1f0fBXdBtCPvOGDNsUS2kH5zv3HOAgcafbh/si+Ksl7csWSUa42eCWHaw3u8P7/1e3MQ7Wat8POF8mM3jyjNkyA7PVCvqIdt03+gvEVt9vOEC6vobr6++k7/EfCQY0whnQCGdAI5wBjXAGNMIZ0AhnQCOcAY1wBjTCGdAIZ0AjnAGNcAY0whnQCGdAI5wBjXAGNMIZ0AhnQCOcAY1wBvR/bArWSPCh85wAAAAASUVORK5CYII=\" y=\"-111.203056\"/>\n   </g>\n   <g id=\"patch_73\">\n    <path d=\"M 351.174576 182.203056 \nL 351.174576 111.270852 \n\" style=\"fill:none;stroke:#000000;stroke-linecap:square;stroke-linejoin:miter;stroke-width:0.8;\"/>\n   </g>\n   <g id=\"patch_74\">\n    <path d=\"M 422.10678 182.203056 \nL 422.10678 111.270852 \n\" style=\"fill:none;stroke:#000000;stroke-linecap:square;stroke-linejoin:miter;stroke-width:0.8;\"/>\n   </g>\n   <g id=\"patch_75\">\n    <path d=\"M 351.174576 182.203056 \nL 422.10678 182.203056 \n\" style=\"fill:none;stroke:#000000;stroke-linecap:square;stroke-linejoin:miter;stroke-width:0.8;\"/>\n   </g>\n   <g id=\"patch_76\">\n    <path d=\"M 351.174576 111.270852 \nL 422.10678 111.270852 \n\" style=\"fill:none;stroke:#000000;stroke-linecap:square;stroke-linejoin:miter;stroke-width:0.8;\"/>\n   </g>\n   <g id=\"text_15\">\n    <!-- sneaker -->\n    <g transform=\"translate(362.92849 105.270852)scale(0.12 -0.12)\">\n     <use xlink:href=\"#DejaVuSans-115\"/>\n     <use x=\"52.099609\" xlink:href=\"#DejaVuSans-110\"/>\n     <use x=\"115.478516\" xlink:href=\"#DejaVuSans-101\"/>\n     <use x=\"177.001953\" xlink:href=\"#DejaVuSans-97\"/>\n     <use x=\"238.28125\" xlink:href=\"#DejaVuSans-107\"/>\n     <use x=\"292.566406\" xlink:href=\"#DejaVuSans-101\"/>\n     <use x=\"354.089844\" xlink:href=\"#DejaVuSans-114\"/>\n    </g>\n   </g>\n  </g>\n  <g id=\"axes_16\">\n   <g id=\"patch_77\">\n    <path d=\"M 436.29322 182.203056 \nL 507.225424 182.203056 \nL 507.225424 111.270852 \nL 436.29322 111.270852 \nz\n\" style=\"fill:#ffffff;\"/>\n   </g>\n   <g clip-path=\"url(#pa646b01d2d)\">\n    <image height=\"71\" id=\"image7ea272c9df\" transform=\"scale(1 -1)translate(0 -71)\" width=\"71\" x=\"436.29322\" xlink:href=\"data:image/png;base64,\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\" y=\"-111.203056\"/>\n   </g>\n   <g id=\"patch_78\">\n    <path d=\"M 436.29322 182.203056 \nL 436.29322 111.270852 \n\" style=\"fill:none;stroke:#000000;stroke-linecap:square;stroke-linejoin:miter;stroke-width:0.8;\"/>\n   </g>\n   <g id=\"patch_79\">\n    <path d=\"M 507.225424 182.203056 \nL 507.225424 111.270852 \n\" style=\"fill:none;stroke:#000000;stroke-linecap:square;stroke-linejoin:miter;stroke-width:0.8;\"/>\n   </g>\n   <g id=\"patch_80\">\n    <path d=\"M 436.29322 182.203056 \nL 507.225424 182.203056 \n\" style=\"fill:none;stroke:#000000;stroke-linecap:square;stroke-linejoin:miter;stroke-width:0.8;\"/>\n   </g>\n   <g id=\"patch_81\">\n    <path d=\"M 436.29322 111.270852 \nL 507.225424 111.270852 \n\" style=\"fill:none;stroke:#000000;stroke-linecap:square;stroke-linejoin:miter;stroke-width:0.8;\"/>\n   </g>\n   <g id=\"text_16\">\n    <!-- ankle boot -->\n    <g transform=\"translate(440.036197 105.270852)scale(0.12 -0.12)\">\n     <use xlink:href=\"#DejaVuSans-97\"/>\n     <use x=\"61.279297\" xlink:href=\"#DejaVuSans-110\"/>\n     <use x=\"124.658203\" xlink:href=\"#DejaVuSans-107\"/>\n     <use x=\"182.568359\" xlink:href=\"#DejaVuSans-108\"/>\n     <use x=\"210.351562\" xlink:href=\"#DejaVuSans-101\"/>\n     <use x=\"271.875\" xlink:href=\"#DejaVuSans-32\"/>\n     <use x=\"303.662109\" xlink:href=\"#DejaVuSans-98\"/>\n     <use x=\"367.138672\" xlink:href=\"#DejaVuSans-111\"/>\n     <use x=\"428.320312\" xlink:href=\"#DejaVuSans-111\"/>\n     <use x=\"489.501953\" xlink:href=\"#DejaVuSans-116\"/>\n    </g>\n   </g>\n  </g>\n  <g id=\"axes_17\">\n   <g id=\"patch_82\">\n    <path d=\"M 521.411864 182.203056 \nL 592.344068 182.203056 \nL 592.344068 111.270852 \nL 521.411864 111.270852 \nz\n\" style=\"fill:#ffffff;\"/>\n   </g>\n   <g clip-path=\"url(#pe3477d27ff)\">\n    <image height=\"71\" id=\"image9ebf79a555\" transform=\"scale(1 -1)translate(0 -71)\" width=\"71\" x=\"521.411864\" xlink:href=\"data:image/png;base64,\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\" y=\"-111.203056\"/>\n   </g>\n   <g id=\"patch_83\">\n    <path d=\"M 521.411864 182.203056 \nL 521.411864 111.270852 \n\" style=\"fill:none;stroke:#000000;stroke-linecap:square;stroke-linejoin:miter;stroke-width:0.8;\"/>\n   </g>\n   <g id=\"patch_84\">\n    <path d=\"M 592.344068 182.203056 \nL 592.344068 111.270852 \n\" style=\"fill:none;stroke:#000000;stroke-linecap:square;stroke-linejoin:miter;stroke-width:0.8;\"/>\n   </g>\n   <g id=\"patch_85\">\n    <path d=\"M 521.411864 182.203056 \nL 592.344068 182.203056 \n\" style=\"fill:none;stroke:#000000;stroke-linecap:square;stroke-linejoin:miter;stroke-width:0.8;\"/>\n   </g>\n   <g id=\"patch_86\">\n    <path d=\"M 521.411864 111.270852 \nL 592.344068 111.270852 \n\" style=\"fill:none;stroke:#000000;stroke-linecap:square;stroke-linejoin:miter;stroke-width:0.8;\"/>\n   </g>\n   <g id=\"text_17\">\n    <!-- trouser -->\n    <g transform=\"translate(535.436404 105.270852)scale(0.12 -0.12)\">\n     <use xlink:href=\"#DejaVuSans-116\"/>\n     <use x=\"39.208984\" xlink:href=\"#DejaVuSans-114\"/>\n     <use x=\"78.072266\" xlink:href=\"#DejaVuSans-111\"/>\n     <use x=\"139.253906\" xlink:href=\"#DejaVuSans-117\"/>\n     <use x=\"202.632812\" xlink:href=\"#DejaVuSans-115\"/>\n     <use x=\"254.732422\" xlink:href=\"#DejaVuSans-101\"/>\n     <use x=\"316.255859\" xlink:href=\"#DejaVuSans-114\"/>\n    </g>\n   </g>\n  </g>\n  <g id=\"axes_18\">\n   <g id=\"patch_87\">\n    <path d=\"M 606.530508 182.203056 \nL 677.462712 182.203056 \nL 677.462712 111.270852 \nL 606.530508 111.270852 \nz\n\" style=\"fill:#ffffff;\"/>\n   </g>\n   <g clip-path=\"url(#pa86147d93f)\">\n    <image height=\"71\" id=\"image6d2f844a73\" transform=\"scale(1 -1)translate(0 -71)\" width=\"71\" x=\"606.530508\" xlink:href=\"data:image/png;base64,\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\" y=\"-111.203056\"/>\n   </g>\n   <g id=\"patch_88\">\n    <path d=\"M 606.530508 182.203056 \nL 606.530508 111.270852 \n\" style=\"fill:none;stroke:#000000;stroke-linecap:square;stroke-linejoin:miter;stroke-width:0.8;\"/>\n   </g>\n   <g id=\"patch_89\">\n    <path d=\"M 677.462712 182.203056 \nL 677.462712 111.270852 \n\" style=\"fill:none;stroke:#000000;stroke-linecap:square;stroke-linejoin:miter;stroke-width:0.8;\"/>\n   </g>\n   <g id=\"patch_90\">\n    <path d=\"M 606.530508 182.203056 \nL 677.462712 182.203056 \n\" style=\"fill:none;stroke:#000000;stroke-linecap:square;stroke-linejoin:miter;stroke-width:0.8;\"/>\n   </g>\n   <g id=\"patch_91\">\n    <path d=\"M 606.530508 111.270852 \nL 677.462712 111.270852 \n\" style=\"fill:none;stroke:#000000;stroke-linecap:square;stroke-linejoin:miter;stroke-width:0.8;\"/>\n   </g>\n   <g id=\"text_18\">\n    <!-- t-shirt -->\n    <g transform=\"translate(624.065985 105.270852)scale(0.12 -0.12)\">\n     <use xlink:href=\"#DejaVuSans-116\"/>\n     <use x=\"39.208984\" xlink:href=\"#DejaVuSans-45\"/>\n     <use x=\"75.292969\" xlink:href=\"#DejaVuSans-115\"/>\n     <use x=\"127.392578\" xlink:href=\"#DejaVuSans-104\"/>\n     <use x=\"190.771484\" xlink:href=\"#DejaVuSans-105\"/>\n     <use x=\"218.554688\" xlink:href=\"#DejaVuSans-114\"/>\n     <use x=\"259.667969\" xlink:href=\"#DejaVuSans-116\"/>\n    </g>\n   </g>\n  </g>\n  <g id=\"axes_19\">\n   <g id=\"patch_92\">\n    <path d=\"M 691.649153 182.203056 \nL 762.581356 182.203056 \nL 762.581356 111.270852 \nL 691.649153 111.270852 \nz\n\" style=\"fill:#ffffff;\"/>\n   </g>\n   <g clip-path=\"url(#p584f36893b)\">\n    <image height=\"71\" id=\"image6a8762d785\" transform=\"scale(1 -1)translate(0 -71)\" width=\"71\" x=\"691.649153\" xlink:href=\"data:image/png;base64,\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\" y=\"-111.203056\"/>\n   </g>\n   <g id=\"patch_93\">\n    <path d=\"M 691.649153 182.203056 \nL 691.649153 111.270852 \n\" style=\"fill:none;stroke:#000000;stroke-linecap:square;stroke-linejoin:miter;stroke-width:0.8;\"/>\n   </g>\n   <g id=\"patch_94\">\n    <path d=\"M 762.581356 182.203056 \nL 762.581356 111.270852 \n\" style=\"fill:none;stroke:#000000;stroke-linecap:square;stroke-linejoin:miter;stroke-width:0.8;\"/>\n   </g>\n   <g id=\"patch_95\">\n    <path d=\"M 691.649153 182.203056 \nL 762.581356 182.203056 \n\" style=\"fill:none;stroke:#000000;stroke-linecap:square;stroke-linejoin:miter;stroke-width:0.8;\"/>\n   </g>\n   <g id=\"patch_96\">\n    <path d=\"M 691.649153 111.270852 \nL 762.581356 111.270852 \n\" style=\"fill:none;stroke:#000000;stroke-linecap:square;stroke-linejoin:miter;stroke-width:0.8;\"/>\n   </g>\n   <g id=\"text_19\">\n    <!-- shirt -->\n    <g transform=\"translate(713.701504 105.270852)scale(0.12 -0.12)\">\n     <use xlink:href=\"#DejaVuSans-115\"/>\n     <use x=\"52.099609\" xlink:href=\"#DejaVuSans-104\"/>\n     <use x=\"115.478516\" xlink:href=\"#DejaVuSans-105\"/>\n     <use x=\"143.261719\" xlink:href=\"#DejaVuSans-114\"/>\n     <use x=\"184.375\" xlink:href=\"#DejaVuSans-116\"/>\n    </g>\n   </g>\n  </g>\n  <g id=\"axes_20\">\n   <g id=\"patch_97\">\n    <path d=\"M 776.767797 182.203056 \nL 847.7 182.203056 \nL 847.7 111.270852 \nL 776.767797 111.270852 \nz\n\" style=\"fill:#ffffff;\"/>\n   </g>\n   <g clip-path=\"url(#pff88d00bab)\">\n    <image height=\"71\" id=\"image402917cdb8\" transform=\"scale(1 -1)translate(0 -71)\" width=\"71\" x=\"776.767797\" xlink:href=\"data:image/png;base64,\niVBORw0KGgoAAAANSUhEUgAAAEcAAABHCAYAAABVsFofAAAABHNCSVQICAgIfAhkiAAAFa5JREFUeJy9nEmPJEty33/m7hGRWVu/1/O2gYbkgCC4gR+AICCddNVBgKCvy4MuBATwpAUkBYGihnzz3lRXd9eSGYu7mQ7mERlZvWV1l+hAoaszIzzcLWz529/MS/69/Cfjc0eISIzEH75j/MNv0RQIWZFsWBC0DX7ZqEhRqE8SM6QYmIEIFgUTAQFEwAxRAzXKecN0kcAg7QtSDE2Cdj43CmKgSSidELJx9k8PxJtb7GFHuXkDWnxeCWDqzz1le58tmHmYnn6t1FtEMDlxennPheEjN39s3qesFUhPuvo9DzN1+WoMaBMwAamzmvhbtSQQwqNbw+ENikDwOSz57lyzWLQPgbLx3y0ImuRIEKUR8sY1pztvCA8tkgsSxGVStfRUrYEvFo6BFf81CRbB4kHdQzFMDYviixTe/9bVF6xdoHQBzE2P9T4EShew1f0m+DMDlFbIWyFkyOeJtG2RcXp3vU8Ypwun2qyEg+2a2mLDYVRMgl83L0QNscNG1oI4mnr+SHFfs3yBC6rU3yMHDaj3mYGoXzdrUsiGTAVyeWf9R6b1CWGdJhwRwnaLpARNQtoWzLC+x8YJcqa52ZFixJqAJX/DlgIIi7MVhTA9svtw8CtxUMIEFt2ZW/SNhsmqcIObE7YIIo6zhgXKxgXZ3I7w0zU6TlhxAUnb+rpVoRTMDJuyO+svE05wwbQN0jSw6VzqRZc3LfsRSRGzxk0pBbRGonkjMkehta9RFxDB/YypuNI19dkGks2/V3MtETDE58v181KvVZBhQu8fDloqgqSEtA2oYTkjs5A+4qNPEo7EiLz8Cjvfki87xhctUozueo889FiKWJuwJtJ/v2W4iqTe2NyMhEnR5mBuJiAcfkfE/ZUIFqjC9I2T/Tpt3dGjuBZFwZoa9ZpqlgIhQ5hAsmKlEF5cwfffYG1CN2mBGmE/IVNBfn5FuX71hcJpG8q3LxhedgxfJ3bfBqTA5UWke925ryiKdpHb30/sfhC2P0P3WohjdhOrWEaiHL+tABrr91HQRvztZyOoYkkoG0GKC0YmRbuwmKoLOGDBBRNHgym7dry44s1fvGTaCtq48w4jdHdKHIzzKcNHhPM0nLPGHOKbKk04qHw+jjAym0+NPGLmm5qf+sghWvQQrUkQNUKdz6RGwlW0Ozhh1zis+qdiDjjxyKmJRTAWOAj0hHGazzFDxkzsC8290DWzE4F8HolvlHh9R4yR7S87ykZo7g30sJBFUNVBS41kVoViUcjbwHghpN7o3ihxnzFpKBvXFEtQoptc7BUCjJeR0gpxNJoHJfauOf4sWQQSRggF4mA090ocFJmv+yLhqCJZCZP/pN79ggloFZTsBxAh7ZS0lxpFqrNe+eAPIlgBTVA6kCJuVn0mbH2JJp4iiBkyedSz5L5Io0f5MBpxKB6RZF6jrzMWN7k4GnFQvy5/OFKdLpz1HszfgEajdIJGoX0TPKSb0r6d2JwF0l6rs63AbS0UY8FBlIPwTBz9WjB30sntT4q5Ockq9ZhBpVRzqdeJ2gHTrJ5ri3+aAeanAeHThVM8aZQgTGdCPhO2N7FinpHm+p6zVai2mhLMWCZUf+DhVx0m1Pmg+oaIpyJVOGEyR8Gdm5+oYdNKMFU4IVe/h0fYxz5y8VvGMaT4wPisxFNqtPHQ6z9A1QRd/AmrhcPK73ws/1sh3SVVMI6dO1TtmDXtsOkZQUsMWPjA9mZg+onxRbmVh16PWocZI9rGZRHLet7JlaSqfQ3js2kooHN4d0csNUuJo2uQFH8xmoTSQt4IaTeDRHMUf3mJdnEBhsuaK3SQFN5Jhp9NOFZVev4REX9xITiQW8tB7fjtL3PIkS/wD+ebOKBrMweOxQ4blTk7r6E6HEzeUkQ23SEJNhZIMM9rUT5OfTxFOEcczAzT6w8isN24BZXiITiIa5Acz4HgpjYZwQyjas/KecqMWcZC2aRF2LKiHqw6Vs/h/J64n5A+Y22DbRp0m5wZyOL4R33eOCphfK5oFRzoLdmwGqJS31Rd6PkZpIRNmfRmj3aNR6q1FsnBBGOWJfex6CZiNW0QhTgUwj6jbVxQcxycCbTgSBqr2Kf1NcVXdzBl8q9+wfiiRZtAmHOvKtg4KPFhIgyOoj+67ZOE856r1yZiASxFCMFNKBdP7N47x6fVGaPSF3r8nPm2R7fL7FdygVLQFCjb4NFtdtTvG++hT9bjZBDo/3Lk4CwJpashdus0huSCDCM0aYHqQs24kxyRVVIU0XDE47jpzcDH3M9U7dc2eLY+R6koxMFIO0fVTBOI0H/XcferSBiN5uEwNyKIBpoKLFOKfGyc7pCrQBYAZQdnqA1YE5EUHbqP08GegzvSeRw5Xz1EGNGaia9DbCXP55xsHdUWwWeIvXNBljPSNIwXgf4bo7l34YUsS+AIGc8HS4T4HMIJAeasOTrFoGl+oNV/5RAaPwSuZvA1c7mV6JqxChwiG1GwJroACsx0oYjTpXkjRxhLkyCbjWssINkzeVEXbmmE0rrvcl9kEJ8plM8hWlvneUsnaAvWVGdana9H3vejT7GaaVNBYsU6czYOlY9RKF1EzhoQ8TxoXocI03mgf+k0xUyxaiPY1fmCquPoc4Xsz8pbYboAglDuqm98Fs15R1CHXMXm/zcBa+K7VYbHvvcREHwH46w4Z9fGw2dihuCapy0LhyM1+7cm+kt8jJnmNSZPUp+XsgCkFELWpfyycMIFyhZuf39Ds2+5LEbY7bEUKV1Ek5dLgqpjmrjafBQ3n3AQkMx+aBZSELTx/Cvs6hpix/AVIEZzK6S+ouWLDktCPoO8dXN0bogl0opC2inNffWNHxmnhfJKWciki89wTsYXUFrYfyc8fBfJF20FdU6GazOHUzc1WSel4ZCQwux8H8P96t+iEKaC7CcswnSpTBe2cM0WoWwieZsoG6F0dkRyzZouxSunoffCwMfGE0szh42KASaI+ua08ciBCKbqGKUYEg9+4WiYucBjWEKzf14FlP17Gqc8NII2kVCLfXGsPir7PaURxhcJjf7/1HsNywTX1jp9KEZ6mAh3PTaMzyCc6owtuYDmtxuyC8QClM3KVHKGKRNHRcxN4p0pszpKjWHJkUx88SEbsc/E3Yh2EUs+b9l6KhEKtG8qiTU4hspb4e7yEN021zgTGQ95oJhfH3+8Qa9foZ8wqydpzmIC1XHOZoVAiUaYcydgbgZw//Ee1dEK8MwOyef6cUffC4Itjh+c9qQKwhsJ3M8ANA9Oh8LBnJY1F7C+R/v+k1s+HSGXagZZCEVggubOCCPks7m6AHkT6V5cYV2LTEqoqYBVemLZ+JEkDv96gmueUacAxfMhpCJkfJPNvS2lnNIKZQP5zF9Y+9YO3898TzXvNJzGAp4uHFh8SCheSAsY7b1iO2EwmC58h2UT0MstVmtEVmqdKR3oAzF71w/Nglk25Pe4KahHo02oPDI0Dz7veAXaelAoW081QoFmpzXFsMoNASbEUT+ZU83jpGhl5slkmIo7SrMV+lzNNIfkpYC3piEeczkclYIXGc0hPM7R7FiA71wX3KQsgSZbItOBrfQ1hOymFsbKnJ0wTjQrQ3Y9wQw4I5853S/qSaKJoI15nX7JfWRFgh/TFjZzy01czHEZa+E0EaIsEWwtoHnzszmVjaEb9eARKjoVFkefeqO9N5rbCSunCec0nGMKOSNTdr9T3mX25ojwzvgQVzsL7QjnHJz3Uol4dP9j9OvI17BYc7Vgy1zL9eIRLYxGyHpgGT4xTtIcU8OmyRn9rAtYm4cXy9Yl2/Iuga1AXOEZWAFD32wolQGslcuF9ZupjnrNLBl/Ge6nRIXQB8IgNA/Q3GcsNJSvPAdLvdXqxOltb6eH8iljMrj2LGUNWXBFHBzzhLGSXbMDDhxVG5aSbu2wmIUs5oJNvVZ/5kJTcSaAxY/YkmJY8EanpcmgF1IvNLtCvB0J20TpWEw3THpEn3xqnGxW60x7Dsu2ON6D+hKAFOvCHau886Ye1YyOyPpZ42a+mDrvh6xzrcXBi40W8JxtjW9s5o6e2awAKAUmd7KlDWhb+ZQgS/6iCaazQL7a1N4ZdQpjpjPMlnTDQaQuJeXcVa5lZifMvH2lswPJ9Z4MP0wQRs+lypliUZjOAuW8QVtH06beABVGzxFP1Z3TOWSt2lPvWsLsSmNmUGZtwGJY3tbjzou14wWWqqWuhOB+aOVbZpnOzQHUa2oaA+6YtTFnKGtX2aI1Ba+wrvfxifF0PmdlTstbGYUwsQhBYyC8T3V13vghM4e68MxSPlmXaiVXbDLnbWHdxeVIWEy8CpICIQtxZMnntO4wTEq8G7zh4UQQeLpwQkDmzLxmuY6Ya/fCIIfwmsTb1wQeI+GlOVvtSMgh10S22JEDl+LtIhZq263JIlzJ0N0ZqTcke6uvZDzhLTP+ckQdR0VuH7D9fukTfD7hqLeSeRoBiC38bCg1EcRDMY+TzQ8602Ms8j4wuFxnMxg8mOncCR9Eaph2HyPr72eHnM2rEycCQHhC85IOA0gg7QfSvnifHzP6VDavfRHNXSHt8gqkrXY8ezitzUtT8XDdQN5UzVlVHCiHzB5q+K6SliqvmSOOFd/MVc2ZXg1jLRLuRvTNW0fHH+kgfbpwqoAwL6GGPLeVefRyfOKbiDUiHI1Vq5uJIMFWcx4SwwP6fRz6WTnpR1MrIBU4TrIEgIWprLSKTMVf8P/XDvZSCEMB9U7xubPL35D3x8xUqqZVMCz+2SKYYg4sm8D+O2G8Mu9eB5q90L71DXlf86oYOKPmOYLVSATufEVXEKN2ZISy8nVPGE8WjuVC2E/uUC+Tn1SZvEdvgefFIB0Szxmo2ZINgpSCTBlNgd0vFb4b2DUbpAT01jiD2rPXHM5UFKu4SVbNBbZoljauKV4qqtl4mf3g0w6FwOc0L5kuvmBxjMqh5ewTsy7dpKvcK2RBp+Bv+IgGeTezf4cHmh1urYTMZRpdCc97fp6mNfBZZlW7MKMTR9oKYVTSvlSVB+1SVfeKkCt5NVdNDfGm7q4lDIWLfxTydUf71ujeeo+wBUE3LVppDQzCkgIc+nRC9oiV9oHmzhZQms8cBMbBmyQ5MXx/mXBMD6WaSobPBzHEQNuIJamh0zP4dS42J4EWBVIkZOXsWsn33gyQdm6eiLi/WR0P8OdTc7Ma2mvD0hwUZuReauoQJv9OnhDCP1s4NmXCfsDMkHK2ZMWWwtIRClVb2sihrU0W4CjmzpZhJH9/wau/EMaXSroLNLeJ9i18898z6c3ohFctiC9dpHW+mZwXcY0KEzj5Rs3ijbQ/ra32eYQzTtjtHUwb5Nsr/zD4W54PefiZhNpgtIosUiD2xXua9xNyv2N88R1/9O/+kf/8w3/lv7z9E/7bzQ/89v++5OXfBeTNHaFNcNWs0oeavyUwE6QEzBTRyhtHyJ23qkiB5m4i9BM2frxG9SzCwWqrR85H5zaXr2feWFi0xb+o/qKsznfGiCb4fnPHH7c/8ePZ17wet/zu4hJtGo6qFbVe9t4lCU6aKcDhugVoTuVfx+dYKVg/EGL00kup2Kb2/2oTvARc1X9uxQ9DOZxYyYrFiP3iivEiEMQYifxBe033cuJVf07/8pdsXl5CFNJDPopudAFt4tLKNtfCTfFGg2rfYTTi6wdkP6D7T9epHo/PCOXm8HuaVuUaXdCuc7qyOFITIWQl9tkFs6uZcRTKeUfpIIgyWeTbdMufd//Mry9vmM79ewveghL7XKsfemjUXBNdegwvwDNxud9h9/feYf/E8fmttmaEqRBGP6ChXVyikR+kswVrDF81yFVDHJT2lfum2z+55O73Ag9/UPiz8x/5Nj6w04Zb29CGzPCVsP9h482UURYadekgnVtTJCDNoYlyLsuk3ouBNk3L0YN/NeGghvQjcddQzlqmq1TbymxpogZ3nrtvAuMLobkzrhoX3m//rfEf//Jv+MPt7/gPF/+T72PH/54GXuk5V6nn4VeKhUjZQt666TS3wWvdvRf1RCFvKtechFIR8vam0NwX0m2P3T88Oaf6cuGYQinIUJBubhhcfV8dstY2Wu8dlCUX43Liry7/Fz+kN7wIkUREyTxox2QRa5SyCV6P6lzg2h1Qcpkz+CJLhj5/5+lMQcaMnngI5H3j882qFOz1W2TXk4ZLwAFg6Zx0ylthvPTDYCEbm2uvUJh4R0W7mfh1c81lmNipsWPH3+z/iL9+/af8093XyFRLKvdC+7oS+RXyDF/B/ttqPjtvNeleGZe/mUh9ofn53omtvvdDrp85vkBzjHJ3B/cPRFNi1xK6iKYNtnWEOl56hty+9Wrj0k4bha7NfB9HItAb9Bb4+/4H/sf199zvumqaRuyFzY3zwsPXLth8rpSvM6hQ3kbiIHSvYfPbB8LdHv3dK1/bF44vP3SPwjgR7nfY1BLPWrQLpMFobz3Xae+U5sErA3njlQY14V9Kx0YKEaMgZA0UDagGwiiVwDI2b5wmjWOgtDDuAuPQgMLmRkg74+znQrjbw753xu8ZxpcJB1yD7h+QfY9sOtKmQdszYq90N87oze30+asN+5cbxish58jf7n/NZez5N+k1jWTuS0cugTJEtvdCewvnv1Uu/uGtl3HqMYP8Ykv/TUvIxvY3D8Q397DvKa/f+HHozwB87xtfLhwALVilHkPWQ+Zc+eQwZKSfoHSHxm4VrvMlvTVElCDK6/GMYWhgiLUe5eE47HpPdudFi9A2wSsKN7fo9Q2WMzYMz7KdeTyPcOZhCsNI3HdoCuTztJxuCcXQLjJdCPkcxl3DX//8x9z2G65/ukL6SPdT5MVPHpniWFMNBb06c4DZ+tlwW2pSBuOEDYP/6YhnHs8rHJy9C/sJu+jIZ36YLPWR0Htzdz6DfGbQR/7PT79AX7V8+7eB7atCd7Mj3TxgXUP//Rll683U5azBgriw09ywUOmQXD55+uVzx7MKx9RgGJGHnhACsW+8NQScephpywkkS/3TLY52tRFKFwlnLdom75RvBOnCoTJXmw9iX0gPEzJMMD092z51PK/maKFcv0LevCV+/RVd9ANpFgP5vEGTkB4A8zPkJQcE7ykcSkBTQ9l64jpcRUrjTZDhws8qtHfqOOZ6h/zmR2zKlM9IKE8dz25WluufStjvkT4TzNBN4+aglZkbnaUrxT+bGxr9XHlt7k71M4MZejsFoUg/UG7vT64/fe54duHMQ/c94Xc3hJQI2w7ahrjfULoteeMt+1hDehC6N/WvCYz17/AkQaOf0IuD9+zEXun+5d7x1N39ZyWSTx3PJ5ylR7n6mGGg/PQzy9/e6TrS/orNJpHPYu0KdQC3eV1Iu1K5YD2czFFoHpT2biLuMvLjz+Sb15+dKz11PJ3PeepYzoM757PUut/zc1Rft1VZeJ7nQwflTzgj/jnj/wHKDQYOtZwJkgAAAABJRU5ErkJggg==\" y=\"-111.203056\"/>\n   </g>\n   <g id=\"patch_98\">\n    <path d=\"M 776.767797 182.203056 \nL 776.767797 111.270852 \n\" style=\"fill:none;stroke:#000000;stroke-linecap:square;stroke-linejoin:miter;stroke-width:0.8;\"/>\n   </g>\n   <g id=\"patch_99\">\n    <path d=\"M 847.7 182.203056 \nL 847.7 111.270852 \n\" style=\"fill:none;stroke:#000000;stroke-linecap:square;stroke-linejoin:miter;stroke-width:0.8;\"/>\n   </g>\n   <g id=\"patch_100\">\n    <path d=\"M 776.767797 182.203056 \nL 847.7 182.203056 \n\" style=\"fill:none;stroke:#000000;stroke-linecap:square;stroke-linejoin:miter;stroke-width:0.8;\"/>\n   </g>\n   <g id=\"patch_101\">\n    <path d=\"M 776.767797 111.270852 \nL 847.7 111.270852 \n\" style=\"fill:none;stroke:#000000;stroke-linecap:square;stroke-linejoin:miter;stroke-width:0.8;\"/>\n   </g>\n   <g id=\"text_20\">\n    <!-- coat -->\n    <defs>\n     <path d=\"M 48.78125 52.59375 \nL 48.78125 44.1875 \nQ 44.96875 46.296875 41.140625 47.34375 \nQ 37.3125 48.390625 33.40625 48.390625 \nQ 24.65625 48.390625 19.8125 42.84375 \nQ 14.984375 37.3125 14.984375 27.296875 \nQ 14.984375 17.28125 19.8125 11.734375 \nQ 24.65625 6.203125 33.40625 6.203125 \nQ 37.3125 6.203125 41.140625 7.25 \nQ 44.96875 8.296875 48.78125 10.40625 \nL 48.78125 2.09375 \nQ 45.015625 0.34375 40.984375 -0.53125 \nQ 36.96875 -1.421875 32.421875 -1.421875 \nQ 20.0625 -1.421875 12.78125 6.34375 \nQ 5.515625 14.109375 5.515625 27.296875 \nQ 5.515625 40.671875 12.859375 48.328125 \nQ 20.21875 56 33.015625 56 \nQ 37.15625 56 41.109375 55.140625 \nQ 45.0625 54.296875 48.78125 52.59375 \nz\n\" id=\"DejaVuSans-99\"/>\n    </defs>\n    <g transform=\"translate(799.234523 105.270852)scale(0.12 -0.12)\">\n     <use xlink:href=\"#DejaVuSans-99\"/>\n     <use x=\"54.980469\" xlink:href=\"#DejaVuSans-111\"/>\n     <use x=\"116.162109\" xlink:href=\"#DejaVuSans-97\"/>\n     <use x=\"177.441406\" xlink:href=\"#DejaVuSans-116\"/>\n    </g>\n   </g>\n  </g>\n </g>\n <defs>\n  <clipPath id=\"pb4ab0c148c\">\n   <rect height=\"70.932203\" width=\"70.932203\" x=\"10.7\" y=\"22.318125\"/>\n  </clipPath>\n  <clipPath id=\"pc7ebc81c00\">\n   <rect height=\"70.932203\" width=\"70.932203\" x=\"95.818644\" y=\"22.318125\"/>\n  </clipPath>\n  <clipPath id=\"p6125757b41\">\n   <rect height=\"70.932203\" width=\"70.932203\" x=\"180.937288\" y=\"22.318125\"/>\n  </clipPath>\n  <clipPath id=\"p89c71722ea\">\n   <rect height=\"70.932203\" width=\"70.932203\" x=\"266.055932\" y=\"22.318125\"/>\n  </clipPath>\n  <clipPath id=\"pe019f398eb\">\n   <rect height=\"70.932203\" width=\"70.932203\" x=\"351.174576\" y=\"22.318125\"/>\n  </clipPath>\n  <clipPath id=\"p1a77fa758d\">\n   <rect height=\"70.932203\" width=\"70.932203\" x=\"436.29322\" y=\"22.318125\"/>\n  </clipPath>\n  <clipPath id=\"p8b1104d7cc\">\n   <rect height=\"70.932203\" width=\"70.932203\" x=\"521.411864\" y=\"22.318125\"/>\n  </clipPath>\n  <clipPath id=\"p4d6e5d73e5\">\n   <rect height=\"70.932203\" width=\"70.932203\" x=\"606.530508\" y=\"22.318125\"/>\n  </clipPath>\n  <clipPath id=\"p384d6ea0b9\">\n   <rect height=\"70.932203\" width=\"70.932203\" x=\"691.649153\" y=\"22.318125\"/>\n  </clipPath>\n  <clipPath id=\"pc80abe679d\">\n   <rect height=\"70.932203\" width=\"70.932203\" x=\"776.767797\" y=\"22.318125\"/>\n  </clipPath>\n  <clipPath id=\"pe7e4a06ae1\">\n   <rect height=\"70.932203\" width=\"70.932203\" x=\"10.7\" y=\"111.270852\"/>\n  </clipPath>\n  <clipPath id=\"p2835d6a587\">\n   <rect height=\"70.932203\" width=\"70.932203\" x=\"95.818644\" y=\"111.270852\"/>\n  </clipPath>\n  <clipPath id=\"p50e7985e43\">\n   <rect height=\"70.932203\" width=\"70.932203\" x=\"180.937288\" y=\"111.270852\"/>\n  </clipPath>\n  <clipPath id=\"pab51cd9f28\">\n   <rect height=\"70.932203\" width=\"70.932203\" x=\"266.055932\" y=\"111.270852\"/>\n  </clipPath>\n  <clipPath id=\"p6ed534bb63\">\n   <rect height=\"70.932203\" width=\"70.932203\" x=\"351.174576\" y=\"111.270852\"/>\n  </clipPath>\n  <clipPath id=\"pa646b01d2d\">\n   <rect height=\"70.932203\" width=\"70.932203\" x=\"436.29322\" y=\"111.270852\"/>\n  </clipPath>\n  <clipPath id=\"pe3477d27ff\">\n   <rect height=\"70.932203\" width=\"70.932203\" x=\"521.411864\" y=\"111.270852\"/>\n  </clipPath>\n  <clipPath id=\"pa86147d93f\">\n   <rect height=\"70.932203\" width=\"70.932203\" x=\"606.530508\" y=\"111.270852\"/>\n  </clipPath>\n  <clipPath id=\"p584f36893b\">\n   <rect height=\"70.932203\" width=\"70.932203\" x=\"691.649153\" y=\"111.270852\"/>\n  </clipPath>\n  <clipPath id=\"pff88d00bab\">\n   <rect height=\"70.932203\" width=\"70.932203\" x=\"776.767797\" y=\"111.270852\"/>\n  </clipPath>\n </defs>\n</svg>\n"
          },
          "metadata": {
            "needs_background": "light"
          }
        }
      ],
      "source": [
        "X, y = next(iter(data.DataLoader(mnist_train, batch_size=20)))\n",
        "show_images(X.reshape(20, 28, 28), 2, 10, titles=get_fashion_mnist_labels(y));"
      ]
    },
    {
      "cell_type": "markdown",
      "metadata": {
        "origin_pos": 22,
        "id": "nfLA8WUKufV7"
      },
      "source": [
        "## 读取小批量\n",
        "\n",
        "为了使我们在读取训练集和测试集时更容易，我们使用内置的数据迭代器，而不是从零开始创建。\n",
        "回顾一下，在每次迭代中，数据加载器每次都会[**读取一小批量数据，大小为`batch_size`**]。\n",
        "通过内置数据迭代器，我们可以随机打乱了所有样本，从而无偏见地读取小批量。\n"
      ]
    },
    {
      "cell_type": "code",
      "execution_count": 12,
      "metadata": {
        "origin_pos": 24,
        "tab": [
          "pytorch"
        ],
        "id": "mBZxzVSuufV7"
      },
      "outputs": [],
      "source": [
        "batch_size = 256\n",
        "\n",
        "def get_dataloader_workers():  \n",
        "    \"\"\"使用4个进程来读取数据\"\"\"\n",
        "    return 2\n",
        "\n",
        "train_iter = data.DataLoader(mnist_train, batch_size, shuffle=True,\n",
        "                             num_workers=get_dataloader_workers())"
      ]
    },
    {
      "cell_type": "markdown",
      "metadata": {
        "origin_pos": 26,
        "id": "9n6Vui9JufV8"
      },
      "source": [
        "我们看一下读取训练数据所需的时间。\n"
      ]
    },
    {
      "cell_type": "code",
      "execution_count": 13,
      "metadata": {
        "origin_pos": 27,
        "tab": [
          "pytorch"
        ],
        "id": "V_BWVqVXufV9",
        "outputId": "cf4ceb85-06bf-4cf5-9342-7cff4ef16460",
        "colab": {
          "base_uri": "https://localhost:8080/",
          "height": 35
        }
      },
      "outputs": [
        {
          "output_type": "execute_result",
          "data": {
            "application/vnd.google.colaboratory.intrinsic+json": {
              "type": "string"
            },
            "text/plain": [
              "'4.04 sec'"
            ]
          },
          "metadata": {},
          "execution_count": 13
        }
      ],
      "source": [
        "timer = d2l.Timer()\n",
        "for X, y in train_iter:\n",
        "    continue\n",
        "f'{timer.stop():.2f} sec'"
      ]
    },
    {
      "cell_type": "markdown",
      "metadata": {
        "origin_pos": 28,
        "id": "IzNaQdfGufV-"
      },
      "source": [
        "## 整合所有组件\n",
        "\n",
        "现在我们[**定义`load_data_fashion_mnist`函数**]，用于获取和读取Fashion-MNIST数据集。\n",
        "这个函数返回训练集和验证集的数据迭代器。\n",
        "此外，这个函数还接受一个可选参数`resize`，用来将图像大小调整为另一种形状。\n"
      ]
    },
    {
      "cell_type": "code",
      "execution_count": null,
      "metadata": {
        "origin_pos": 30,
        "tab": [
          "pytorch"
        ],
        "id": "UZ0Y_Y-9ufV_"
      },
      "outputs": [],
      "source": [
        "def load_data_fashion_mnist(batch_size, resize=None): \n",
        "    \"\"\"下载Fashion-MNIST数据集，然后将其加载到内存中\"\"\"\n",
        "    trans = [transforms.ToTensor()]\n",
        "    if resize:\n",
        "        trans.insert(0, transforms.Resize(resize))\n",
        "    trans = transforms.Compose(trans)\n",
        "    mnist_train = torchvision.datasets.FashionMNIST(\n",
        "        root=\"../data\", train=True, transform=trans, download=True)\n",
        "    mnist_test = torchvision.datasets.FashionMNIST(\n",
        "        root=\"../data\", train=False, transform=trans, download=True)\n",
        "    return (data.DataLoader(mnist_train, batch_size, shuffle=True,\n",
        "                            num_workers=get_dataloader_workers()),\n",
        "            data.DataLoader(mnist_test, batch_size, shuffle=False,\n",
        "                            num_workers=get_dataloader_workers()))"
      ]
    },
    {
      "cell_type": "markdown",
      "metadata": {
        "origin_pos": 32,
        "id": "xvGlgwRtufWA"
      },
      "source": [
        "下面，我们通过指定`resize`参数来测试`load_data_fashion_mnist`函数的图像大小调整功能。\n"
      ]
    },
    {
      "cell_type": "code",
      "execution_count": null,
      "metadata": {
        "origin_pos": 33,
        "tab": [
          "pytorch"
        ],
        "id": "pndg7hLKufWC",
        "outputId": "7545e8fa-4aa9-474e-ac97-a5b0d9f08bb7"
      },
      "outputs": [
        {
          "name": "stdout",
          "output_type": "stream",
          "text": [
            "torch.Size([32, 1, 64, 64]) torch.float32 torch.Size([32]) torch.int64\n"
          ]
        }
      ],
      "source": [
        "train_iter, test_iter = load_data_fashion_mnist(32, resize=64)\n",
        "for X, y in train_iter:\n",
        "    print(X.shape, X.dtype, y.shape, y.dtype)\n",
        "    break"
      ]
    },
    {
      "cell_type": "markdown",
      "metadata": {
        "origin_pos": 34,
        "id": "TeQ0ppHuufWC"
      },
      "source": [
        "我们现在已经准备好使用Fashion-MNIST数据集，便于下面的章节调用来评估各种分类算法。\n",
        "\n",
        "## 小结\n",
        "\n",
        "* Fashion-MNIST是一个服装分类数据集，由10个类别的图像组成。我们将在后续章节中使用此数据集来评估各种分类算法。\n",
        "* 我们将高度$h$像素，宽度$w$像素图像的形状记为$h \\times w$或（$h$,$w$）。\n",
        "* 数据迭代器是获得更高性能的关键组件。依靠实现良好的数据迭代器，利用高性能计算来避免减慢训练过程。\n",
        "\n",
        "## 练习\n",
        "\n",
        "1. 减少`batch_size`（如减少到1）是否会影响读取性能？\n",
        "1. 数据迭代器的性能非常重要。你认为当前的实现足够快吗？探索各种选择来改进它。\n",
        "1. 查阅框架的在线API文档。还有哪些其他数据集可用？\n"
      ]
    },
    {
      "cell_type": "markdown",
      "metadata": {
        "origin_pos": 36,
        "tab": [
          "pytorch"
        ],
        "id": "JLU68ti4ufWD"
      },
      "source": [
        "[Discussions](https://discuss.d2l.ai/t/1787)\n"
      ]
    }
  ],
  "metadata": {
    "kernelspec": {
      "display_name": "Python 3",
      "name": "python3"
    },
    "language_info": {
      "name": "python"
    },
    "colab": {
      "name": "image-classification-dataset.ipynb",
      "provenance": []
    },
    "accelerator": "GPU",
    "widgets": {
      "application/vnd.jupyter.widget-state+json": {
        "8b28927f0f5241ae91e21c92d9cb711b": {
          "model_module": "@jupyter-widgets/controls",
          "model_name": "HBoxModel",
          "model_module_version": "1.5.0",
          "state": {
            "_view_name": "HBoxView",
            "_dom_classes": [],
            "_model_name": "HBoxModel",
            "_view_module": "@jupyter-widgets/controls",
            "_model_module_version": "1.5.0",
            "_view_count": null,
            "_view_module_version": "1.5.0",
            "box_style": "",
            "layout": "IPY_MODEL_1c2db3f8a56e4a74bcd1586d452aa644",
            "_model_module": "@jupyter-widgets/controls",
            "children": [
              "IPY_MODEL_8c83778f69e14b67bb9cc89b306213dc",
              "IPY_MODEL_42b3ce18f4224fd08a73e79a08175a0b",
              "IPY_MODEL_4d7733da4b774c9385b4dfd96d22fd94"
            ]
          }
        },
        "1c2db3f8a56e4a74bcd1586d452aa644": {
          "model_module": "@jupyter-widgets/base",
          "model_name": "LayoutModel",
          "model_module_version": "1.2.0",
          "state": {
            "_view_name": "LayoutView",
            "grid_template_rows": null,
            "right": null,
            "justify_content": null,
            "_view_module": "@jupyter-widgets/base",
            "overflow": null,
            "_model_module_version": "1.2.0",
            "_view_count": null,
            "flex_flow": null,
            "width": null,
            "min_width": null,
            "border": null,
            "align_items": null,
            "bottom": null,
            "_model_module": "@jupyter-widgets/base",
            "top": null,
            "grid_column": null,
            "overflow_y": null,
            "overflow_x": null,
            "grid_auto_flow": null,
            "grid_area": null,
            "grid_template_columns": null,
            "flex": null,
            "_model_name": "LayoutModel",
            "justify_items": null,
            "grid_row": null,
            "max_height": null,
            "align_content": null,
            "visibility": null,
            "align_self": null,
            "height": null,
            "min_height": null,
            "padding": null,
            "grid_auto_rows": null,
            "grid_gap": null,
            "max_width": null,
            "order": null,
            "_view_module_version": "1.2.0",
            "grid_template_areas": null,
            "object_position": null,
            "object_fit": null,
            "grid_auto_columns": null,
            "margin": null,
            "display": null,
            "left": null
          }
        },
        "8c83778f69e14b67bb9cc89b306213dc": {
          "model_module": "@jupyter-widgets/controls",
          "model_name": "HTMLModel",
          "model_module_version": "1.5.0",
          "state": {
            "_view_name": "HTMLView",
            "style": "IPY_MODEL_0f625958ee464ed2bfebe60c84d3bb14",
            "_dom_classes": [],
            "description": "",
            "_model_name": "HTMLModel",
            "placeholder": "​",
            "_view_module": "@jupyter-widgets/controls",
            "_model_module_version": "1.5.0",
            "value": "",
            "_view_count": null,
            "_view_module_version": "1.5.0",
            "description_tooltip": null,
            "_model_module": "@jupyter-widgets/controls",
            "layout": "IPY_MODEL_5fb50e17d83547c7825d1a233573a405"
          }
        },
        "42b3ce18f4224fd08a73e79a08175a0b": {
          "model_module": "@jupyter-widgets/controls",
          "model_name": "FloatProgressModel",
          "model_module_version": "1.5.0",
          "state": {
            "_view_name": "ProgressView",
            "style": "IPY_MODEL_62c47ad30bae42f998ee1a40e1e87dd7",
            "_dom_classes": [],
            "description": "",
            "_model_name": "FloatProgressModel",
            "bar_style": "success",
            "max": 26421880,
            "_view_module": "@jupyter-widgets/controls",
            "_model_module_version": "1.5.0",
            "value": 26421880,
            "_view_count": null,
            "_view_module_version": "1.5.0",
            "orientation": "horizontal",
            "min": 0,
            "description_tooltip": null,
            "_model_module": "@jupyter-widgets/controls",
            "layout": "IPY_MODEL_21a6285ee0594c848acc4c12811f8932"
          }
        },
        "4d7733da4b774c9385b4dfd96d22fd94": {
          "model_module": "@jupyter-widgets/controls",
          "model_name": "HTMLModel",
          "model_module_version": "1.5.0",
          "state": {
            "_view_name": "HTMLView",
            "style": "IPY_MODEL_164225c5cc7f41bcb4e83158eb4f1d02",
            "_dom_classes": [],
            "description": "",
            "_model_name": "HTMLModel",
            "placeholder": "​",
            "_view_module": "@jupyter-widgets/controls",
            "_model_module_version": "1.5.0",
            "value": " 26422272/? [00:00&lt;00:00, 88425088.67it/s]",
            "_view_count": null,
            "_view_module_version": "1.5.0",
            "description_tooltip": null,
            "_model_module": "@jupyter-widgets/controls",
            "layout": "IPY_MODEL_b99ac187337e4c95b93d9c82c12a9d48"
          }
        },
        "0f625958ee464ed2bfebe60c84d3bb14": {
          "model_module": "@jupyter-widgets/controls",
          "model_name": "DescriptionStyleModel",
          "model_module_version": "1.5.0",
          "state": {
            "_view_name": "StyleView",
            "_model_name": "DescriptionStyleModel",
            "description_width": "",
            "_view_module": "@jupyter-widgets/base",
            "_model_module_version": "1.5.0",
            "_view_count": null,
            "_view_module_version": "1.2.0",
            "_model_module": "@jupyter-widgets/controls"
          }
        },
        "5fb50e17d83547c7825d1a233573a405": {
          "model_module": "@jupyter-widgets/base",
          "model_name": "LayoutModel",
          "model_module_version": "1.2.0",
          "state": {
            "_view_name": "LayoutView",
            "grid_template_rows": null,
            "right": null,
            "justify_content": null,
            "_view_module": "@jupyter-widgets/base",
            "overflow": null,
            "_model_module_version": "1.2.0",
            "_view_count": null,
            "flex_flow": null,
            "width": null,
            "min_width": null,
            "border": null,
            "align_items": null,
            "bottom": null,
            "_model_module": "@jupyter-widgets/base",
            "top": null,
            "grid_column": null,
            "overflow_y": null,
            "overflow_x": null,
            "grid_auto_flow": null,
            "grid_area": null,
            "grid_template_columns": null,
            "flex": null,
            "_model_name": "LayoutModel",
            "justify_items": null,
            "grid_row": null,
            "max_height": null,
            "align_content": null,
            "visibility": null,
            "align_self": null,
            "height": null,
            "min_height": null,
            "padding": null,
            "grid_auto_rows": null,
            "grid_gap": null,
            "max_width": null,
            "order": null,
            "_view_module_version": "1.2.0",
            "grid_template_areas": null,
            "object_position": null,
            "object_fit": null,
            "grid_auto_columns": null,
            "margin": null,
            "display": null,
            "left": null
          }
        },
        "62c47ad30bae42f998ee1a40e1e87dd7": {
          "model_module": "@jupyter-widgets/controls",
          "model_name": "ProgressStyleModel",
          "model_module_version": "1.5.0",
          "state": {
            "_view_name": "StyleView",
            "_model_name": "ProgressStyleModel",
            "description_width": "",
            "_view_module": "@jupyter-widgets/base",
            "_model_module_version": "1.5.0",
            "_view_count": null,
            "_view_module_version": "1.2.0",
            "bar_color": null,
            "_model_module": "@jupyter-widgets/controls"
          }
        },
        "21a6285ee0594c848acc4c12811f8932": {
          "model_module": "@jupyter-widgets/base",
          "model_name": "LayoutModel",
          "model_module_version": "1.2.0",
          "state": {
            "_view_name": "LayoutView",
            "grid_template_rows": null,
            "right": null,
            "justify_content": null,
            "_view_module": "@jupyter-widgets/base",
            "overflow": null,
            "_model_module_version": "1.2.0",
            "_view_count": null,
            "flex_flow": null,
            "width": null,
            "min_width": null,
            "border": null,
            "align_items": null,
            "bottom": null,
            "_model_module": "@jupyter-widgets/base",
            "top": null,
            "grid_column": null,
            "overflow_y": null,
            "overflow_x": null,
            "grid_auto_flow": null,
            "grid_area": null,
            "grid_template_columns": null,
            "flex": null,
            "_model_name": "LayoutModel",
            "justify_items": null,
            "grid_row": null,
            "max_height": null,
            "align_content": null,
            "visibility": null,
            "align_self": null,
            "height": null,
            "min_height": null,
            "padding": null,
            "grid_auto_rows": null,
            "grid_gap": null,
            "max_width": null,
            "order": null,
            "_view_module_version": "1.2.0",
            "grid_template_areas": null,
            "object_position": null,
            "object_fit": null,
            "grid_auto_columns": null,
            "margin": null,
            "display": null,
            "left": null
          }
        },
        "164225c5cc7f41bcb4e83158eb4f1d02": {
          "model_module": "@jupyter-widgets/controls",
          "model_name": "DescriptionStyleModel",
          "model_module_version": "1.5.0",
          "state": {
            "_view_name": "StyleView",
            "_model_name": "DescriptionStyleModel",
            "description_width": "",
            "_view_module": "@jupyter-widgets/base",
            "_model_module_version": "1.5.0",
            "_view_count": null,
            "_view_module_version": "1.2.0",
            "_model_module": "@jupyter-widgets/controls"
          }
        },
        "b99ac187337e4c95b93d9c82c12a9d48": {
          "model_module": "@jupyter-widgets/base",
          "model_name": "LayoutModel",
          "model_module_version": "1.2.0",
          "state": {
            "_view_name": "LayoutView",
            "grid_template_rows": null,
            "right": null,
            "justify_content": null,
            "_view_module": "@jupyter-widgets/base",
            "overflow": null,
            "_model_module_version": "1.2.0",
            "_view_count": null,
            "flex_flow": null,
            "width": null,
            "min_width": null,
            "border": null,
            "align_items": null,
            "bottom": null,
            "_model_module": "@jupyter-widgets/base",
            "top": null,
            "grid_column": null,
            "overflow_y": null,
            "overflow_x": null,
            "grid_auto_flow": null,
            "grid_area": null,
            "grid_template_columns": null,
            "flex": null,
            "_model_name": "LayoutModel",
            "justify_items": null,
            "grid_row": null,
            "max_height": null,
            "align_content": null,
            "visibility": null,
            "align_self": null,
            "height": null,
            "min_height": null,
            "padding": null,
            "grid_auto_rows": null,
            "grid_gap": null,
            "max_width": null,
            "order": null,
            "_view_module_version": "1.2.0",
            "grid_template_areas": null,
            "object_position": null,
            "object_fit": null,
            "grid_auto_columns": null,
            "margin": null,
            "display": null,
            "left": null
          }
        },
        "919712bbacb844d28b90a398610b2988": {
          "model_module": "@jupyter-widgets/controls",
          "model_name": "HBoxModel",
          "model_module_version": "1.5.0",
          "state": {
            "_view_name": "HBoxView",
            "_dom_classes": [],
            "_model_name": "HBoxModel",
            "_view_module": "@jupyter-widgets/controls",
            "_model_module_version": "1.5.0",
            "_view_count": null,
            "_view_module_version": "1.5.0",
            "box_style": "",
            "layout": "IPY_MODEL_ee1ff3f834f244a3ab81c7fd840cbaea",
            "_model_module": "@jupyter-widgets/controls",
            "children": [
              "IPY_MODEL_0a9a35d05cfc4ab7981d4ec14d149a56",
              "IPY_MODEL_5df06f225a694358877e005283be86f1",
              "IPY_MODEL_5f84138449894c11a68a8869cdfd1438"
            ]
          }
        },
        "ee1ff3f834f244a3ab81c7fd840cbaea": {
          "model_module": "@jupyter-widgets/base",
          "model_name": "LayoutModel",
          "model_module_version": "1.2.0",
          "state": {
            "_view_name": "LayoutView",
            "grid_template_rows": null,
            "right": null,
            "justify_content": null,
            "_view_module": "@jupyter-widgets/base",
            "overflow": null,
            "_model_module_version": "1.2.0",
            "_view_count": null,
            "flex_flow": null,
            "width": null,
            "min_width": null,
            "border": null,
            "align_items": null,
            "bottom": null,
            "_model_module": "@jupyter-widgets/base",
            "top": null,
            "grid_column": null,
            "overflow_y": null,
            "overflow_x": null,
            "grid_auto_flow": null,
            "grid_area": null,
            "grid_template_columns": null,
            "flex": null,
            "_model_name": "LayoutModel",
            "justify_items": null,
            "grid_row": null,
            "max_height": null,
            "align_content": null,
            "visibility": null,
            "align_self": null,
            "height": null,
            "min_height": null,
            "padding": null,
            "grid_auto_rows": null,
            "grid_gap": null,
            "max_width": null,
            "order": null,
            "_view_module_version": "1.2.0",
            "grid_template_areas": null,
            "object_position": null,
            "object_fit": null,
            "grid_auto_columns": null,
            "margin": null,
            "display": null,
            "left": null
          }
        },
        "0a9a35d05cfc4ab7981d4ec14d149a56": {
          "model_module": "@jupyter-widgets/controls",
          "model_name": "HTMLModel",
          "model_module_version": "1.5.0",
          "state": {
            "_view_name": "HTMLView",
            "style": "IPY_MODEL_219b83d2792f4524abdcec9054450da8",
            "_dom_classes": [],
            "description": "",
            "_model_name": "HTMLModel",
            "placeholder": "​",
            "_view_module": "@jupyter-widgets/controls",
            "_model_module_version": "1.5.0",
            "value": "",
            "_view_count": null,
            "_view_module_version": "1.5.0",
            "description_tooltip": null,
            "_model_module": "@jupyter-widgets/controls",
            "layout": "IPY_MODEL_7181da52e6ca46f3befcf7dd4732610a"
          }
        },
        "5df06f225a694358877e005283be86f1": {
          "model_module": "@jupyter-widgets/controls",
          "model_name": "FloatProgressModel",
          "model_module_version": "1.5.0",
          "state": {
            "_view_name": "ProgressView",
            "style": "IPY_MODEL_1e19dca628114327b10d807ca1482a16",
            "_dom_classes": [],
            "description": "",
            "_model_name": "FloatProgressModel",
            "bar_style": "success",
            "max": 29515,
            "_view_module": "@jupyter-widgets/controls",
            "_model_module_version": "1.5.0",
            "value": 29515,
            "_view_count": null,
            "_view_module_version": "1.5.0",
            "orientation": "horizontal",
            "min": 0,
            "description_tooltip": null,
            "_model_module": "@jupyter-widgets/controls",
            "layout": "IPY_MODEL_b45363f9f5b54ca4acecd2d0e5857d87"
          }
        },
        "5f84138449894c11a68a8869cdfd1438": {
          "model_module": "@jupyter-widgets/controls",
          "model_name": "HTMLModel",
          "model_module_version": "1.5.0",
          "state": {
            "_view_name": "HTMLView",
            "style": "IPY_MODEL_1a888d934b384059af55c329affa13a3",
            "_dom_classes": [],
            "description": "",
            "_model_name": "HTMLModel",
            "placeholder": "​",
            "_view_module": "@jupyter-widgets/controls",
            "_model_module_version": "1.5.0",
            "value": " 29696/? [00:00&lt;00:00, 1005140.95it/s]",
            "_view_count": null,
            "_view_module_version": "1.5.0",
            "description_tooltip": null,
            "_model_module": "@jupyter-widgets/controls",
            "layout": "IPY_MODEL_3e55c96229de4ab6958145b593b86075"
          }
        },
        "219b83d2792f4524abdcec9054450da8": {
          "model_module": "@jupyter-widgets/controls",
          "model_name": "DescriptionStyleModel",
          "model_module_version": "1.5.0",
          "state": {
            "_view_name": "StyleView",
            "_model_name": "DescriptionStyleModel",
            "description_width": "",
            "_view_module": "@jupyter-widgets/base",
            "_model_module_version": "1.5.0",
            "_view_count": null,
            "_view_module_version": "1.2.0",
            "_model_module": "@jupyter-widgets/controls"
          }
        },
        "7181da52e6ca46f3befcf7dd4732610a": {
          "model_module": "@jupyter-widgets/base",
          "model_name": "LayoutModel",
          "model_module_version": "1.2.0",
          "state": {
            "_view_name": "LayoutView",
            "grid_template_rows": null,
            "right": null,
            "justify_content": null,
            "_view_module": "@jupyter-widgets/base",
            "overflow": null,
            "_model_module_version": "1.2.0",
            "_view_count": null,
            "flex_flow": null,
            "width": null,
            "min_width": null,
            "border": null,
            "align_items": null,
            "bottom": null,
            "_model_module": "@jupyter-widgets/base",
            "top": null,
            "grid_column": null,
            "overflow_y": null,
            "overflow_x": null,
            "grid_auto_flow": null,
            "grid_area": null,
            "grid_template_columns": null,
            "flex": null,
            "_model_name": "LayoutModel",
            "justify_items": null,
            "grid_row": null,
            "max_height": null,
            "align_content": null,
            "visibility": null,
            "align_self": null,
            "height": null,
            "min_height": null,
            "padding": null,
            "grid_auto_rows": null,
            "grid_gap": null,
            "max_width": null,
            "order": null,
            "_view_module_version": "1.2.0",
            "grid_template_areas": null,
            "object_position": null,
            "object_fit": null,
            "grid_auto_columns": null,
            "margin": null,
            "display": null,
            "left": null
          }
        },
        "1e19dca628114327b10d807ca1482a16": {
          "model_module": "@jupyter-widgets/controls",
          "model_name": "ProgressStyleModel",
          "model_module_version": "1.5.0",
          "state": {
            "_view_name": "StyleView",
            "_model_name": "ProgressStyleModel",
            "description_width": "",
            "_view_module": "@jupyter-widgets/base",
            "_model_module_version": "1.5.0",
            "_view_count": null,
            "_view_module_version": "1.2.0",
            "bar_color": null,
            "_model_module": "@jupyter-widgets/controls"
          }
        },
        "b45363f9f5b54ca4acecd2d0e5857d87": {
          "model_module": "@jupyter-widgets/base",
          "model_name": "LayoutModel",
          "model_module_version": "1.2.0",
          "state": {
            "_view_name": "LayoutView",
            "grid_template_rows": null,
            "right": null,
            "justify_content": null,
            "_view_module": "@jupyter-widgets/base",
            "overflow": null,
            "_model_module_version": "1.2.0",
            "_view_count": null,
            "flex_flow": null,
            "width": null,
            "min_width": null,
            "border": null,
            "align_items": null,
            "bottom": null,
            "_model_module": "@jupyter-widgets/base",
            "top": null,
            "grid_column": null,
            "overflow_y": null,
            "overflow_x": null,
            "grid_auto_flow": null,
            "grid_area": null,
            "grid_template_columns": null,
            "flex": null,
            "_model_name": "LayoutModel",
            "justify_items": null,
            "grid_row": null,
            "max_height": null,
            "align_content": null,
            "visibility": null,
            "align_self": null,
            "height": null,
            "min_height": null,
            "padding": null,
            "grid_auto_rows": null,
            "grid_gap": null,
            "max_width": null,
            "order": null,
            "_view_module_version": "1.2.0",
            "grid_template_areas": null,
            "object_position": null,
            "object_fit": null,
            "grid_auto_columns": null,
            "margin": null,
            "display": null,
            "left": null
          }
        },
        "1a888d934b384059af55c329affa13a3": {
          "model_module": "@jupyter-widgets/controls",
          "model_name": "DescriptionStyleModel",
          "model_module_version": "1.5.0",
          "state": {
            "_view_name": "StyleView",
            "_model_name": "DescriptionStyleModel",
            "description_width": "",
            "_view_module": "@jupyter-widgets/base",
            "_model_module_version": "1.5.0",
            "_view_count": null,
            "_view_module_version": "1.2.0",
            "_model_module": "@jupyter-widgets/controls"
          }
        },
        "3e55c96229de4ab6958145b593b86075": {
          "model_module": "@jupyter-widgets/base",
          "model_name": "LayoutModel",
          "model_module_version": "1.2.0",
          "state": {
            "_view_name": "LayoutView",
            "grid_template_rows": null,
            "right": null,
            "justify_content": null,
            "_view_module": "@jupyter-widgets/base",
            "overflow": null,
            "_model_module_version": "1.2.0",
            "_view_count": null,
            "flex_flow": null,
            "width": null,
            "min_width": null,
            "border": null,
            "align_items": null,
            "bottom": null,
            "_model_module": "@jupyter-widgets/base",
            "top": null,
            "grid_column": null,
            "overflow_y": null,
            "overflow_x": null,
            "grid_auto_flow": null,
            "grid_area": null,
            "grid_template_columns": null,
            "flex": null,
            "_model_name": "LayoutModel",
            "justify_items": null,
            "grid_row": null,
            "max_height": null,
            "align_content": null,
            "visibility": null,
            "align_self": null,
            "height": null,
            "min_height": null,
            "padding": null,
            "grid_auto_rows": null,
            "grid_gap": null,
            "max_width": null,
            "order": null,
            "_view_module_version": "1.2.0",
            "grid_template_areas": null,
            "object_position": null,
            "object_fit": null,
            "grid_auto_columns": null,
            "margin": null,
            "display": null,
            "left": null
          }
        },
        "823605712f804a17acfea467a67b8c2c": {
          "model_module": "@jupyter-widgets/controls",
          "model_name": "HBoxModel",
          "model_module_version": "1.5.0",
          "state": {
            "_view_name": "HBoxView",
            "_dom_classes": [],
            "_model_name": "HBoxModel",
            "_view_module": "@jupyter-widgets/controls",
            "_model_module_version": "1.5.0",
            "_view_count": null,
            "_view_module_version": "1.5.0",
            "box_style": "",
            "layout": "IPY_MODEL_0a00fb38557b4194bd604c9485946221",
            "_model_module": "@jupyter-widgets/controls",
            "children": [
              "IPY_MODEL_c351cf09c77d43859ab0a700fe222920",
              "IPY_MODEL_5d127cd6a0664c4da61ffc7a70b33ec3",
              "IPY_MODEL_be45d8b43e5b4644a25b7f72f75e0938"
            ]
          }
        },
        "0a00fb38557b4194bd604c9485946221": {
          "model_module": "@jupyter-widgets/base",
          "model_name": "LayoutModel",
          "model_module_version": "1.2.0",
          "state": {
            "_view_name": "LayoutView",
            "grid_template_rows": null,
            "right": null,
            "justify_content": null,
            "_view_module": "@jupyter-widgets/base",
            "overflow": null,
            "_model_module_version": "1.2.0",
            "_view_count": null,
            "flex_flow": null,
            "width": null,
            "min_width": null,
            "border": null,
            "align_items": null,
            "bottom": null,
            "_model_module": "@jupyter-widgets/base",
            "top": null,
            "grid_column": null,
            "overflow_y": null,
            "overflow_x": null,
            "grid_auto_flow": null,
            "grid_area": null,
            "grid_template_columns": null,
            "flex": null,
            "_model_name": "LayoutModel",
            "justify_items": null,
            "grid_row": null,
            "max_height": null,
            "align_content": null,
            "visibility": null,
            "align_self": null,
            "height": null,
            "min_height": null,
            "padding": null,
            "grid_auto_rows": null,
            "grid_gap": null,
            "max_width": null,
            "order": null,
            "_view_module_version": "1.2.0",
            "grid_template_areas": null,
            "object_position": null,
            "object_fit": null,
            "grid_auto_columns": null,
            "margin": null,
            "display": null,
            "left": null
          }
        },
        "c351cf09c77d43859ab0a700fe222920": {
          "model_module": "@jupyter-widgets/controls",
          "model_name": "HTMLModel",
          "model_module_version": "1.5.0",
          "state": {
            "_view_name": "HTMLView",
            "style": "IPY_MODEL_b3e23b5d0e174c039462e77e5fded820",
            "_dom_classes": [],
            "description": "",
            "_model_name": "HTMLModel",
            "placeholder": "​",
            "_view_module": "@jupyter-widgets/controls",
            "_model_module_version": "1.5.0",
            "value": "",
            "_view_count": null,
            "_view_module_version": "1.5.0",
            "description_tooltip": null,
            "_model_module": "@jupyter-widgets/controls",
            "layout": "IPY_MODEL_40daac59674f49bca39f07455403549f"
          }
        },
        "5d127cd6a0664c4da61ffc7a70b33ec3": {
          "model_module": "@jupyter-widgets/controls",
          "model_name": "FloatProgressModel",
          "model_module_version": "1.5.0",
          "state": {
            "_view_name": "ProgressView",
            "style": "IPY_MODEL_23e0958f270a4e66b2e4e97136a1d067",
            "_dom_classes": [],
            "description": "",
            "_model_name": "FloatProgressModel",
            "bar_style": "success",
            "max": 4422102,
            "_view_module": "@jupyter-widgets/controls",
            "_model_module_version": "1.5.0",
            "value": 4422102,
            "_view_count": null,
            "_view_module_version": "1.5.0",
            "orientation": "horizontal",
            "min": 0,
            "description_tooltip": null,
            "_model_module": "@jupyter-widgets/controls",
            "layout": "IPY_MODEL_6f33024350dc4aa4b99a8c59bdaafc9a"
          }
        },
        "be45d8b43e5b4644a25b7f72f75e0938": {
          "model_module": "@jupyter-widgets/controls",
          "model_name": "HTMLModel",
          "model_module_version": "1.5.0",
          "state": {
            "_view_name": "HTMLView",
            "style": "IPY_MODEL_9fbcafef971545398fa05950e2fc2e1f",
            "_dom_classes": [],
            "description": "",
            "_model_name": "HTMLModel",
            "placeholder": "​",
            "_view_module": "@jupyter-widgets/controls",
            "_model_module_version": "1.5.0",
            "value": " 4422656/? [00:00&lt;00:00, 43888367.94it/s]",
            "_view_count": null,
            "_view_module_version": "1.5.0",
            "description_tooltip": null,
            "_model_module": "@jupyter-widgets/controls",
            "layout": "IPY_MODEL_bb8f5c6301534f0f8db72ecd1787f01c"
          }
        },
        "b3e23b5d0e174c039462e77e5fded820": {
          "model_module": "@jupyter-widgets/controls",
          "model_name": "DescriptionStyleModel",
          "model_module_version": "1.5.0",
          "state": {
            "_view_name": "StyleView",
            "_model_name": "DescriptionStyleModel",
            "description_width": "",
            "_view_module": "@jupyter-widgets/base",
            "_model_module_version": "1.5.0",
            "_view_count": null,
            "_view_module_version": "1.2.0",
            "_model_module": "@jupyter-widgets/controls"
          }
        },
        "40daac59674f49bca39f07455403549f": {
          "model_module": "@jupyter-widgets/base",
          "model_name": "LayoutModel",
          "model_module_version": "1.2.0",
          "state": {
            "_view_name": "LayoutView",
            "grid_template_rows": null,
            "right": null,
            "justify_content": null,
            "_view_module": "@jupyter-widgets/base",
            "overflow": null,
            "_model_module_version": "1.2.0",
            "_view_count": null,
            "flex_flow": null,
            "width": null,
            "min_width": null,
            "border": null,
            "align_items": null,
            "bottom": null,
            "_model_module": "@jupyter-widgets/base",
            "top": null,
            "grid_column": null,
            "overflow_y": null,
            "overflow_x": null,
            "grid_auto_flow": null,
            "grid_area": null,
            "grid_template_columns": null,
            "flex": null,
            "_model_name": "LayoutModel",
            "justify_items": null,
            "grid_row": null,
            "max_height": null,
            "align_content": null,
            "visibility": null,
            "align_self": null,
            "height": null,
            "min_height": null,
            "padding": null,
            "grid_auto_rows": null,
            "grid_gap": null,
            "max_width": null,
            "order": null,
            "_view_module_version": "1.2.0",
            "grid_template_areas": null,
            "object_position": null,
            "object_fit": null,
            "grid_auto_columns": null,
            "margin": null,
            "display": null,
            "left": null
          }
        },
        "23e0958f270a4e66b2e4e97136a1d067": {
          "model_module": "@jupyter-widgets/controls",
          "model_name": "ProgressStyleModel",
          "model_module_version": "1.5.0",
          "state": {
            "_view_name": "StyleView",
            "_model_name": "ProgressStyleModel",
            "description_width": "",
            "_view_module": "@jupyter-widgets/base",
            "_model_module_version": "1.5.0",
            "_view_count": null,
            "_view_module_version": "1.2.0",
            "bar_color": null,
            "_model_module": "@jupyter-widgets/controls"
          }
        },
        "6f33024350dc4aa4b99a8c59bdaafc9a": {
          "model_module": "@jupyter-widgets/base",
          "model_name": "LayoutModel",
          "model_module_version": "1.2.0",
          "state": {
            "_view_name": "LayoutView",
            "grid_template_rows": null,
            "right": null,
            "justify_content": null,
            "_view_module": "@jupyter-widgets/base",
            "overflow": null,
            "_model_module_version": "1.2.0",
            "_view_count": null,
            "flex_flow": null,
            "width": null,
            "min_width": null,
            "border": null,
            "align_items": null,
            "bottom": null,
            "_model_module": "@jupyter-widgets/base",
            "top": null,
            "grid_column": null,
            "overflow_y": null,
            "overflow_x": null,
            "grid_auto_flow": null,
            "grid_area": null,
            "grid_template_columns": null,
            "flex": null,
            "_model_name": "LayoutModel",
            "justify_items": null,
            "grid_row": null,
            "max_height": null,
            "align_content": null,
            "visibility": null,
            "align_self": null,
            "height": null,
            "min_height": null,
            "padding": null,
            "grid_auto_rows": null,
            "grid_gap": null,
            "max_width": null,
            "order": null,
            "_view_module_version": "1.2.0",
            "grid_template_areas": null,
            "object_position": null,
            "object_fit": null,
            "grid_auto_columns": null,
            "margin": null,
            "display": null,
            "left": null
          }
        },
        "9fbcafef971545398fa05950e2fc2e1f": {
          "model_module": "@jupyter-widgets/controls",
          "model_name": "DescriptionStyleModel",
          "model_module_version": "1.5.0",
          "state": {
            "_view_name": "StyleView",
            "_model_name": "DescriptionStyleModel",
            "description_width": "",
            "_view_module": "@jupyter-widgets/base",
            "_model_module_version": "1.5.0",
            "_view_count": null,
            "_view_module_version": "1.2.0",
            "_model_module": "@jupyter-widgets/controls"
          }
        },
        "bb8f5c6301534f0f8db72ecd1787f01c": {
          "model_module": "@jupyter-widgets/base",
          "model_name": "LayoutModel",
          "model_module_version": "1.2.0",
          "state": {
            "_view_name": "LayoutView",
            "grid_template_rows": null,
            "right": null,
            "justify_content": null,
            "_view_module": "@jupyter-widgets/base",
            "overflow": null,
            "_model_module_version": "1.2.0",
            "_view_count": null,
            "flex_flow": null,
            "width": null,
            "min_width": null,
            "border": null,
            "align_items": null,
            "bottom": null,
            "_model_module": "@jupyter-widgets/base",
            "top": null,
            "grid_column": null,
            "overflow_y": null,
            "overflow_x": null,
            "grid_auto_flow": null,
            "grid_area": null,
            "grid_template_columns": null,
            "flex": null,
            "_model_name": "LayoutModel",
            "justify_items": null,
            "grid_row": null,
            "max_height": null,
            "align_content": null,
            "visibility": null,
            "align_self": null,
            "height": null,
            "min_height": null,
            "padding": null,
            "grid_auto_rows": null,
            "grid_gap": null,
            "max_width": null,
            "order": null,
            "_view_module_version": "1.2.0",
            "grid_template_areas": null,
            "object_position": null,
            "object_fit": null,
            "grid_auto_columns": null,
            "margin": null,
            "display": null,
            "left": null
          }
        },
        "2fade53354c24d70ba53470c0bcb0b44": {
          "model_module": "@jupyter-widgets/controls",
          "model_name": "HBoxModel",
          "model_module_version": "1.5.0",
          "state": {
            "_view_name": "HBoxView",
            "_dom_classes": [],
            "_model_name": "HBoxModel",
            "_view_module": "@jupyter-widgets/controls",
            "_model_module_version": "1.5.0",
            "_view_count": null,
            "_view_module_version": "1.5.0",
            "box_style": "",
            "layout": "IPY_MODEL_d845cf722d6e49d49d7b077e40673628",
            "_model_module": "@jupyter-widgets/controls",
            "children": [
              "IPY_MODEL_f6660c4b8ed9478e94cce1094c6dcd44",
              "IPY_MODEL_bf05b3b3fb6e4ddcbbe9ae6dace4fa88",
              "IPY_MODEL_6d1993ea1926408c9e7fc7a3f2beb64a"
            ]
          }
        },
        "d845cf722d6e49d49d7b077e40673628": {
          "model_module": "@jupyter-widgets/base",
          "model_name": "LayoutModel",
          "model_module_version": "1.2.0",
          "state": {
            "_view_name": "LayoutView",
            "grid_template_rows": null,
            "right": null,
            "justify_content": null,
            "_view_module": "@jupyter-widgets/base",
            "overflow": null,
            "_model_module_version": "1.2.0",
            "_view_count": null,
            "flex_flow": null,
            "width": null,
            "min_width": null,
            "border": null,
            "align_items": null,
            "bottom": null,
            "_model_module": "@jupyter-widgets/base",
            "top": null,
            "grid_column": null,
            "overflow_y": null,
            "overflow_x": null,
            "grid_auto_flow": null,
            "grid_area": null,
            "grid_template_columns": null,
            "flex": null,
            "_model_name": "LayoutModel",
            "justify_items": null,
            "grid_row": null,
            "max_height": null,
            "align_content": null,
            "visibility": null,
            "align_self": null,
            "height": null,
            "min_height": null,
            "padding": null,
            "grid_auto_rows": null,
            "grid_gap": null,
            "max_width": null,
            "order": null,
            "_view_module_version": "1.2.0",
            "grid_template_areas": null,
            "object_position": null,
            "object_fit": null,
            "grid_auto_columns": null,
            "margin": null,
            "display": null,
            "left": null
          }
        },
        "f6660c4b8ed9478e94cce1094c6dcd44": {
          "model_module": "@jupyter-widgets/controls",
          "model_name": "HTMLModel",
          "model_module_version": "1.5.0",
          "state": {
            "_view_name": "HTMLView",
            "style": "IPY_MODEL_23c4fc7aaf8c4853946e81763ae5020c",
            "_dom_classes": [],
            "description": "",
            "_model_name": "HTMLModel",
            "placeholder": "​",
            "_view_module": "@jupyter-widgets/controls",
            "_model_module_version": "1.5.0",
            "value": "",
            "_view_count": null,
            "_view_module_version": "1.5.0",
            "description_tooltip": null,
            "_model_module": "@jupyter-widgets/controls",
            "layout": "IPY_MODEL_468f3cab24cb4696b88e68ff0f2c1970"
          }
        },
        "bf05b3b3fb6e4ddcbbe9ae6dace4fa88": {
          "model_module": "@jupyter-widgets/controls",
          "model_name": "FloatProgressModel",
          "model_module_version": "1.5.0",
          "state": {
            "_view_name": "ProgressView",
            "style": "IPY_MODEL_2f59c92d9c9c435887b9c6bc121b7449",
            "_dom_classes": [],
            "description": "",
            "_model_name": "FloatProgressModel",
            "bar_style": "success",
            "max": 5148,
            "_view_module": "@jupyter-widgets/controls",
            "_model_module_version": "1.5.0",
            "value": 5148,
            "_view_count": null,
            "_view_module_version": "1.5.0",
            "orientation": "horizontal",
            "min": 0,
            "description_tooltip": null,
            "_model_module": "@jupyter-widgets/controls",
            "layout": "IPY_MODEL_79204d052cf94b699b5d104f48522d9e"
          }
        },
        "6d1993ea1926408c9e7fc7a3f2beb64a": {
          "model_module": "@jupyter-widgets/controls",
          "model_name": "HTMLModel",
          "model_module_version": "1.5.0",
          "state": {
            "_view_name": "HTMLView",
            "style": "IPY_MODEL_6373d89cee944395a515893b0af64be2",
            "_dom_classes": [],
            "description": "",
            "_model_name": "HTMLModel",
            "placeholder": "​",
            "_view_module": "@jupyter-widgets/controls",
            "_model_module_version": "1.5.0",
            "value": " 6144/? [00:00&lt;00:00, 197016.85it/s]",
            "_view_count": null,
            "_view_module_version": "1.5.0",
            "description_tooltip": null,
            "_model_module": "@jupyter-widgets/controls",
            "layout": "IPY_MODEL_200e308ddbe34d4891ef670dfd13566a"
          }
        },
        "23c4fc7aaf8c4853946e81763ae5020c": {
          "model_module": "@jupyter-widgets/controls",
          "model_name": "DescriptionStyleModel",
          "model_module_version": "1.5.0",
          "state": {
            "_view_name": "StyleView",
            "_model_name": "DescriptionStyleModel",
            "description_width": "",
            "_view_module": "@jupyter-widgets/base",
            "_model_module_version": "1.5.0",
            "_view_count": null,
            "_view_module_version": "1.2.0",
            "_model_module": "@jupyter-widgets/controls"
          }
        },
        "468f3cab24cb4696b88e68ff0f2c1970": {
          "model_module": "@jupyter-widgets/base",
          "model_name": "LayoutModel",
          "model_module_version": "1.2.0",
          "state": {
            "_view_name": "LayoutView",
            "grid_template_rows": null,
            "right": null,
            "justify_content": null,
            "_view_module": "@jupyter-widgets/base",
            "overflow": null,
            "_model_module_version": "1.2.0",
            "_view_count": null,
            "flex_flow": null,
            "width": null,
            "min_width": null,
            "border": null,
            "align_items": null,
            "bottom": null,
            "_model_module": "@jupyter-widgets/base",
            "top": null,
            "grid_column": null,
            "overflow_y": null,
            "overflow_x": null,
            "grid_auto_flow": null,
            "grid_area": null,
            "grid_template_columns": null,
            "flex": null,
            "_model_name": "LayoutModel",
            "justify_items": null,
            "grid_row": null,
            "max_height": null,
            "align_content": null,
            "visibility": null,
            "align_self": null,
            "height": null,
            "min_height": null,
            "padding": null,
            "grid_auto_rows": null,
            "grid_gap": null,
            "max_width": null,
            "order": null,
            "_view_module_version": "1.2.0",
            "grid_template_areas": null,
            "object_position": null,
            "object_fit": null,
            "grid_auto_columns": null,
            "margin": null,
            "display": null,
            "left": null
          }
        },
        "2f59c92d9c9c435887b9c6bc121b7449": {
          "model_module": "@jupyter-widgets/controls",
          "model_name": "ProgressStyleModel",
          "model_module_version": "1.5.0",
          "state": {
            "_view_name": "StyleView",
            "_model_name": "ProgressStyleModel",
            "description_width": "",
            "_view_module": "@jupyter-widgets/base",
            "_model_module_version": "1.5.0",
            "_view_count": null,
            "_view_module_version": "1.2.0",
            "bar_color": null,
            "_model_module": "@jupyter-widgets/controls"
          }
        },
        "79204d052cf94b699b5d104f48522d9e": {
          "model_module": "@jupyter-widgets/base",
          "model_name": "LayoutModel",
          "model_module_version": "1.2.0",
          "state": {
            "_view_name": "LayoutView",
            "grid_template_rows": null,
            "right": null,
            "justify_content": null,
            "_view_module": "@jupyter-widgets/base",
            "overflow": null,
            "_model_module_version": "1.2.0",
            "_view_count": null,
            "flex_flow": null,
            "width": null,
            "min_width": null,
            "border": null,
            "align_items": null,
            "bottom": null,
            "_model_module": "@jupyter-widgets/base",
            "top": null,
            "grid_column": null,
            "overflow_y": null,
            "overflow_x": null,
            "grid_auto_flow": null,
            "grid_area": null,
            "grid_template_columns": null,
            "flex": null,
            "_model_name": "LayoutModel",
            "justify_items": null,
            "grid_row": null,
            "max_height": null,
            "align_content": null,
            "visibility": null,
            "align_self": null,
            "height": null,
            "min_height": null,
            "padding": null,
            "grid_auto_rows": null,
            "grid_gap": null,
            "max_width": null,
            "order": null,
            "_view_module_version": "1.2.0",
            "grid_template_areas": null,
            "object_position": null,
            "object_fit": null,
            "grid_auto_columns": null,
            "margin": null,
            "display": null,
            "left": null
          }
        },
        "6373d89cee944395a515893b0af64be2": {
          "model_module": "@jupyter-widgets/controls",
          "model_name": "DescriptionStyleModel",
          "model_module_version": "1.5.0",
          "state": {
            "_view_name": "StyleView",
            "_model_name": "DescriptionStyleModel",
            "description_width": "",
            "_view_module": "@jupyter-widgets/base",
            "_model_module_version": "1.5.0",
            "_view_count": null,
            "_view_module_version": "1.2.0",
            "_model_module": "@jupyter-widgets/controls"
          }
        },
        "200e308ddbe34d4891ef670dfd13566a": {
          "model_module": "@jupyter-widgets/base",
          "model_name": "LayoutModel",
          "model_module_version": "1.2.0",
          "state": {
            "_view_name": "LayoutView",
            "grid_template_rows": null,
            "right": null,
            "justify_content": null,
            "_view_module": "@jupyter-widgets/base",
            "overflow": null,
            "_model_module_version": "1.2.0",
            "_view_count": null,
            "flex_flow": null,
            "width": null,
            "min_width": null,
            "border": null,
            "align_items": null,
            "bottom": null,
            "_model_module": "@jupyter-widgets/base",
            "top": null,
            "grid_column": null,
            "overflow_y": null,
            "overflow_x": null,
            "grid_auto_flow": null,
            "grid_area": null,
            "grid_template_columns": null,
            "flex": null,
            "_model_name": "LayoutModel",
            "justify_items": null,
            "grid_row": null,
            "max_height": null,
            "align_content": null,
            "visibility": null,
            "align_self": null,
            "height": null,
            "min_height": null,
            "padding": null,
            "grid_auto_rows": null,
            "grid_gap": null,
            "max_width": null,
            "order": null,
            "_view_module_version": "1.2.0",
            "grid_template_areas": null,
            "object_position": null,
            "object_fit": null,
            "grid_auto_columns": null,
            "margin": null,
            "display": null,
            "left": null
          }
        }
      }
    }
  },
  "nbformat": 4,
  "nbformat_minor": 0
}